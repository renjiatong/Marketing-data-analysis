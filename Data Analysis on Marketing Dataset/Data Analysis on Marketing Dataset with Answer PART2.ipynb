{
 "cells": [
  {
   "cell_type": "markdown",
   "metadata": {},
   "source": [
    "# Data Analysis on Marketing Dataset PART2"
   ]
  },
  {
   "cell_type": "markdown",
   "metadata": {},
   "source": [
    "<img src=\"img/0.png\" style=\"max-width: 400px; height: auto; \"></img>"
   ]
  },
  {
   "cell_type": "markdown",
   "metadata": {},
   "source": [
    "### Import library"
   ]
  },
  {
   "cell_type": "code",
   "execution_count": 1,
   "metadata": {},
   "outputs": [
    {
     "name": "stdout",
     "output_type": "stream",
     "text": [
      "current pandas version: 1.0.3\n",
      "current scikit-learn version: 0.22.2.post1\n",
      "current seaborn version: 0.10.0\n"
     ]
    }
   ],
   "source": [
    "import warnings\n",
    "warnings.simplefilter(action='ignore', category=FutureWarning)\n",
    "import os\n",
    "import numpy as np\n",
    "import pandas as pd\n",
    "import update\n",
    "import sklearn\n",
    "import seaborn as sns\n",
    "import matplotlib.pyplot as plt\n",
    "%matplotlib inline\n",
    "\n",
    "# Inspired from stackoverflow.com/questions/25239958\n",
    "from sklearn.base import BaseEstimator, TransformerMixin\n",
    "class MostFrequentImputer(BaseEstimator, TransformerMixin):\n",
    "    def fit(self, X, y=None):\n",
    "        self.most_frequent_ = pd.Series([X[c].value_counts().index[0] for c in X],\n",
    "                                        index=X.columns)\n",
    "        return self\n",
    "    def transform(self, X, y=None):\n",
    "        return X.fillna(self.most_frequent_)\n",
    "\n",
    "pd.set_option('display.max_rows', 500)\n",
    "pd.set_option('display.max_columns', 500)\n",
    "pd.set_option('display.max_colwidth', 1000)\n",
    "\n",
    "print(\"current pandas version: \" + pd.__version__)\n",
    "print(\"current scikit-learn version: \" + sklearn.__version__)\n",
    "print(\"current seaborn version: \" + sns.__version__)"
   ]
  },
  {
   "cell_type": "code",
   "execution_count": 2,
   "metadata": {},
   "outputs": [],
   "source": [
    "# import warnings\n",
    "# warnings.simplefilter(action='ignore', category=FutureWarning)\n",
    "# import os\n",
    "\n",
    "# import numpy as np\n",
    "# import pandas as pd\n",
    "# import update\n",
    "\n",
    "# pd.set_option('display.max_rows', 500)\n",
    "# pd.set_option('display.max_columns', 500)\n",
    "# pd.set_option('display.width', 1000)\n",
    "# pd.set_option('display.max_colwidth', 1000)\n",
    "\n",
    "# print(\"current pandas version: \" + pd.__version__)"
   ]
  },
  {
   "cell_type": "markdown",
   "metadata": {},
   "source": [
    "### Load cmpn Dataset"
   ]
  },
  {
   "cell_type": "code",
   "execution_count": 3,
   "metadata": {},
   "outputs": [
    {
     "data": {
      "text/plain": [
       "(41189, 17)"
      ]
     },
     "execution_count": 3,
     "metadata": {},
     "output_type": "execute_result"
    }
   ],
   "source": [
    "cmpn = pd.read_pickle('./data/cmpn.pkl')\n",
    "cmpn.shape"
   ]
  },
  {
   "cell_type": "code",
   "execution_count": 4,
   "metadata": {},
   "outputs": [
    {
     "data": {
      "text/html": [
       "<div>\n",
       "<style scoped>\n",
       "    .dataframe tbody tr th:only-of-type {\n",
       "        vertical-align: middle;\n",
       "    }\n",
       "\n",
       "    .dataframe tbody tr th {\n",
       "        vertical-align: top;\n",
       "    }\n",
       "\n",
       "    .dataframe thead th {\n",
       "        text-align: right;\n",
       "    }\n",
       "</style>\n",
       "<table border=\"1\" class=\"dataframe\">\n",
       "  <thead>\n",
       "    <tr style=\"text-align: right;\">\n",
       "      <th></th>\n",
       "      <th>cust_id</th>\n",
       "      <th>age</th>\n",
       "      <th>job</th>\n",
       "      <th>marital</th>\n",
       "      <th>education</th>\n",
       "      <th>default</th>\n",
       "      <th>mortgage</th>\n",
       "      <th>loan</th>\n",
       "      <th>contact_type</th>\n",
       "      <th>duration</th>\n",
       "      <th>contact_num</th>\n",
       "      <th>p_days</th>\n",
       "      <th>p_outcome</th>\n",
       "      <th>y</th>\n",
       "      <th>duration_mins</th>\n",
       "      <th>date</th>\n",
       "      <th>yrmth</th>\n",
       "    </tr>\n",
       "  </thead>\n",
       "  <tbody>\n",
       "    <tr>\n",
       "      <th>0</th>\n",
       "      <td>44715</td>\n",
       "      <td>52.0</td>\n",
       "      <td>blue-collar</td>\n",
       "      <td>married</td>\n",
       "      <td>basic.6y</td>\n",
       "      <td></td>\n",
       "      <td>yes</td>\n",
       "      <td>no</td>\n",
       "      <td>cellular</td>\n",
       "      <td>108</td>\n",
       "      <td>2</td>\n",
       "      <td>999</td>\n",
       "      <td>nonexistent</td>\n",
       "      <td>no</td>\n",
       "      <td>1.800000</td>\n",
       "      <td>2008-08-02</td>\n",
       "      <td>200808</td>\n",
       "    </tr>\n",
       "    <tr>\n",
       "      <th>1</th>\n",
       "      <td>62194</td>\n",
       "      <td>31.0</td>\n",
       "      <td>management</td>\n",
       "      <td>married</td>\n",
       "      <td>university.degree</td>\n",
       "      <td>no</td>\n",
       "      <td>yes</td>\n",
       "      <td>no</td>\n",
       "      <td>telephone</td>\n",
       "      <td>422</td>\n",
       "      <td>5</td>\n",
       "      <td>999</td>\n",
       "      <td>nonexistent</td>\n",
       "      <td>no</td>\n",
       "      <td>7.033333</td>\n",
       "      <td>2008-06-03</td>\n",
       "      <td>200806</td>\n",
       "    </tr>\n",
       "  </tbody>\n",
       "</table>\n",
       "</div>"
      ],
      "text/plain": [
       "   cust_id   age          job  marital          education default mortgage  \\\n",
       "0    44715  52.0  blue-collar  married           basic.6y              yes   \n",
       "1    62194  31.0   management  married  university.degree      no      yes   \n",
       "\n",
       "  loan contact_type  duration  contact_num  p_days    p_outcome   y  \\\n",
       "0   no     cellular       108            2     999  nonexistent  no   \n",
       "1   no    telephone       422            5     999  nonexistent  no   \n",
       "\n",
       "   duration_mins       date   yrmth  \n",
       "0       1.800000 2008-08-02  200808  \n",
       "1       7.033333 2008-06-03  200806  "
      ]
     },
     "execution_count": 4,
     "metadata": {},
     "output_type": "execute_result"
    }
   ],
   "source": [
    "cmpn.head(2)"
   ]
  },
  {
   "cell_type": "markdown",
   "metadata": {},
   "source": [
    "## Task1: Check column distribution"
   ]
  },
  {
   "cell_type": "code",
   "execution_count": 5,
   "metadata": {},
   "outputs": [
    {
     "name": "stdout",
     "output_type": "stream",
     "text": [
      "['cust_id', 'age', 'job', 'marital', 'education', 'default', 'mortgage', 'loan', 'contact_type', 'duration', 'contact_num', 'p_days', 'p_outcome', 'y', 'duration_mins', 'date', 'yrmth']\n"
     ]
    }
   ],
   "source": [
    "# Display columns\n",
    "print(cmpn.columns.tolist())"
   ]
  },
  {
   "cell_type": "code",
   "execution_count": 6,
   "metadata": {},
   "outputs": [
    {
     "data": {
      "text/plain": [
       "cust_id                   int64\n",
       "age                     float64\n",
       "job                      object\n",
       "marital                  object\n",
       "education                object\n",
       "default                  object\n",
       "mortgage                 object\n",
       "loan                     object\n",
       "contact_type             object\n",
       "duration                  int64\n",
       "contact_num               int64\n",
       "p_days                    int64\n",
       "p_outcome                object\n",
       "y                        object\n",
       "duration_mins           float64\n",
       "date             datetime64[ns]\n",
       "yrmth                    object\n",
       "dtype: object"
      ]
     },
     "execution_count": 6,
     "metadata": {},
     "output_type": "execute_result"
    }
   ],
   "source": [
    "# Check column type\n",
    "cmpn.dtypes"
   ]
  },
  {
   "cell_type": "code",
   "execution_count": 7,
   "metadata": {},
   "outputs": [
    {
     "data": {
      "text/html": [
       "<div>\n",
       "<style scoped>\n",
       "    .dataframe tbody tr th:only-of-type {\n",
       "        vertical-align: middle;\n",
       "    }\n",
       "\n",
       "    .dataframe tbody tr th {\n",
       "        vertical-align: top;\n",
       "    }\n",
       "\n",
       "    .dataframe thead th {\n",
       "        text-align: right;\n",
       "    }\n",
       "</style>\n",
       "<table border=\"1\" class=\"dataframe\">\n",
       "  <thead>\n",
       "    <tr style=\"text-align: right;\">\n",
       "      <th></th>\n",
       "      <th>cust_id</th>\n",
       "      <th>age</th>\n",
       "      <th>duration</th>\n",
       "      <th>contact_num</th>\n",
       "      <th>p_days</th>\n",
       "      <th>duration_mins</th>\n",
       "    </tr>\n",
       "  </thead>\n",
       "  <tbody>\n",
       "    <tr>\n",
       "      <th>count</th>\n",
       "      <td>41189</td>\n",
       "      <td>40689</td>\n",
       "      <td>41189</td>\n",
       "      <td>41189</td>\n",
       "      <td>41189</td>\n",
       "      <td>41189</td>\n",
       "    </tr>\n",
       "    <tr>\n",
       "      <th>mean</th>\n",
       "      <td>49881</td>\n",
       "      <td>40</td>\n",
       "      <td>258</td>\n",
       "      <td>2</td>\n",
       "      <td>962</td>\n",
       "      <td>4</td>\n",
       "    </tr>\n",
       "    <tr>\n",
       "      <th>std</th>\n",
       "      <td>28870</td>\n",
       "      <td>10</td>\n",
       "      <td>259</td>\n",
       "      <td>2</td>\n",
       "      <td>186</td>\n",
       "      <td>4</td>\n",
       "    </tr>\n",
       "    <tr>\n",
       "      <th>min</th>\n",
       "      <td>2</td>\n",
       "      <td>17</td>\n",
       "      <td>0</td>\n",
       "      <td>1</td>\n",
       "      <td>0</td>\n",
       "      <td>0</td>\n",
       "    </tr>\n",
       "    <tr>\n",
       "      <th>25%</th>\n",
       "      <td>24897</td>\n",
       "      <td>32</td>\n",
       "      <td>102</td>\n",
       "      <td>1</td>\n",
       "      <td>999</td>\n",
       "      <td>1</td>\n",
       "    </tr>\n",
       "    <tr>\n",
       "      <th>50%</th>\n",
       "      <td>49667</td>\n",
       "      <td>38</td>\n",
       "      <td>180</td>\n",
       "      <td>2</td>\n",
       "      <td>999</td>\n",
       "      <td>3</td>\n",
       "    </tr>\n",
       "    <tr>\n",
       "      <th>75%</th>\n",
       "      <td>74895</td>\n",
       "      <td>47</td>\n",
       "      <td>319</td>\n",
       "      <td>3</td>\n",
       "      <td>999</td>\n",
       "      <td>5</td>\n",
       "    </tr>\n",
       "    <tr>\n",
       "      <th>max</th>\n",
       "      <td>99999</td>\n",
       "      <td>98</td>\n",
       "      <td>4918</td>\n",
       "      <td>56</td>\n",
       "      <td>999</td>\n",
       "      <td>81</td>\n",
       "    </tr>\n",
       "  </tbody>\n",
       "</table>\n",
       "</div>"
      ],
      "text/plain": [
       "       cust_id    age  duration  contact_num  p_days  duration_mins\n",
       "count    41189  40689     41189        41189   41189          41189\n",
       "mean     49881     40       258            2     962              4\n",
       "std      28870     10       259            2     186              4\n",
       "min          2     17         0            1       0              0\n",
       "25%      24897     32       102            1     999              1\n",
       "50%      49667     38       180            2     999              3\n",
       "75%      74895     47       319            3     999              5\n",
       "max      99999     98      4918           56     999             81"
      ]
     },
     "execution_count": 7,
     "metadata": {},
     "output_type": "execute_result"
    }
   ],
   "source": [
    "# Distribution of numerical columns\n",
    "cmpn.describe().astype(int)"
   ]
  },
  {
   "cell_type": "code",
   "execution_count": 8,
   "metadata": {},
   "outputs": [
    {
     "data": {
      "text/plain": [
       "admin.           10422\n",
       "blue-collar       9255\n",
       "technician        6743\n",
       "services          3969\n",
       "management        2924\n",
       "retired           1720\n",
       "entrepreneur      1456\n",
       "self-employed     1421\n",
       "housemaid         1060\n",
       "unemployed        1014\n",
       "student            875\n",
       "                   330\n",
       "Name: job, dtype: int64"
      ]
     },
     "execution_count": 8,
     "metadata": {},
     "output_type": "execute_result"
    }
   ],
   "source": [
    "# Distribution of categorical variables\n",
    "cmpn.job.value_counts(dropna=False)"
   ]
  },
  {
   "cell_type": "markdown",
   "metadata": {},
   "source": [
    "#### Create numerical and categorical variable list"
   ]
  },
  {
   "cell_type": "code",
   "execution_count": 9,
   "metadata": {},
   "outputs": [
    {
     "data": {
      "text/plain": [
       "cust_id                   int64\n",
       "age                     float64\n",
       "job                      object\n",
       "marital                  object\n",
       "education                object\n",
       "default                  object\n",
       "mortgage                 object\n",
       "loan                     object\n",
       "contact_type             object\n",
       "duration                  int64\n",
       "contact_num               int64\n",
       "p_days                    int64\n",
       "p_outcome                object\n",
       "y                        object\n",
       "duration_mins           float64\n",
       "date             datetime64[ns]\n",
       "yrmth                    object\n",
       "dtype: object"
      ]
     },
     "execution_count": 9,
     "metadata": {},
     "output_type": "execute_result"
    }
   ],
   "source": [
    "col_type = cmpn.dtypes\n",
    "col_type"
   ]
  },
  {
   "cell_type": "code",
   "execution_count": 10,
   "metadata": {},
   "outputs": [
    {
     "name": "stdout",
     "output_type": "stream",
     "text": [
      "['job', 'marital', 'education', 'default', 'mortgage', 'loan', 'contact_type', 'p_outcome', 'y', 'yrmth']\n"
     ]
    }
   ],
   "source": [
    "var_cat = col_type[col_type=='object'].index.tolist()\n",
    "print(var_cat)"
   ]
  },
  {
   "cell_type": "code",
   "execution_count": 11,
   "metadata": {},
   "outputs": [
    {
     "name": "stdout",
     "output_type": "stream",
     "text": [
      "['cust_id', 'age', 'duration', 'contact_num', 'p_days', 'duration_mins', 'date']\n"
     ]
    }
   ],
   "source": [
    "var_num = col_type[col_type!='object'].index.tolist()\n",
    "print(var_num)"
   ]
  },
  {
   "cell_type": "code",
   "execution_count": 12,
   "metadata": {},
   "outputs": [
    {
     "data": {
      "text/plain": [
       "pandas.core.series.Series"
      ]
     },
     "execution_count": 12,
     "metadata": {},
     "output_type": "execute_result"
    }
   ],
   "source": [
    "type(col_type[col_type!='object'])"
   ]
  },
  {
   "cell_type": "code",
   "execution_count": 13,
   "metadata": {},
   "outputs": [
    {
     "data": {
      "text/plain": [
       "['cust_id', 'date', 'yrmth']"
      ]
     },
     "execution_count": 13,
     "metadata": {},
     "output_type": "execute_result"
    }
   ],
   "source": [
    "var_key = ['cust_id','date','yrmth']\n",
    "var_key"
   ]
  },
  {
   "cell_type": "code",
   "execution_count": 14,
   "metadata": {},
   "outputs": [
    {
     "name": "stdout",
     "output_type": "stream",
     "text": [
      "['age', 'duration', 'contact_num', 'p_days', 'duration_mins'] 5\n",
      "['job', 'marital', 'education', 'default', 'mortgage', 'loan', 'contact_type', 'p_outcome', 'y'] 9\n"
     ]
    }
   ],
   "source": [
    "# var_num - var_key\n",
    "# https://stackoverflow.com/questions/3428536/python-list-subtraction-operation\n",
    "var_num = [item for item in var_num if item not in var_key]\n",
    "print(var_num, len(var_num))\n",
    "var_cat = [item for item in var_cat if item not in var_key]\n",
    "print(var_cat, len(var_cat))"
   ]
  },
  {
   "cell_type": "markdown",
   "metadata": {},
   "source": [
    " "
   ]
  },
  {
   "cell_type": "code",
   "execution_count": 15,
   "metadata": {
    "scrolled": true
   },
   "outputs": [
    {
     "name": "stdout",
     "output_type": "stream",
     "text": [
      "0 - job:\n",
      "admin.           10422\n",
      "blue-collar       9255\n",
      "technician        6743\n",
      "services          3969\n",
      "management        2924\n",
      "retired           1720\n",
      "entrepreneur      1456\n",
      "self-employed     1421\n",
      "housemaid         1060\n",
      "unemployed        1014\n",
      "student            875\n",
      "                   330\n",
      "Name: job, dtype: int64\n",
      "-------------------------------------------------------\n",
      "\n",
      "1 - marital:\n",
      "married     24929\n",
      "single      11568\n",
      "divorced     4612\n",
      "               80\n",
      "Name: marital, dtype: int64\n",
      "-------------------------------------------------------\n",
      "\n",
      "2 - education:\n",
      "university.degree      12168\n",
      "high.school             9515\n",
      "basic.9y                6045\n",
      "professional.course     5243\n",
      "basic.4y                4176\n",
      "basic.6y                2293\n",
      "NaN                     1731\n",
      "illiterate                18\n",
      "Name: education, dtype: int64\n",
      "-------------------------------------------------------\n",
      "\n",
      "3 - default:\n",
      "no     32588\n",
      "        8598\n",
      "yes        3\n",
      "Name: default, dtype: int64\n",
      "-------------------------------------------------------\n",
      "\n",
      "4 - mortgage:\n",
      "yes    21577\n",
      "no     18622\n",
      "         990\n",
      "Name: mortgage, dtype: int64\n",
      "-------------------------------------------------------\n",
      "\n",
      "5 - loan:\n",
      "no     33951\n",
      "yes     6248\n",
      "         990\n",
      "Name: loan, dtype: int64\n",
      "-------------------------------------------------------\n",
      "\n",
      "6 - contact_type:\n",
      "cellular     26144\n",
      "telephone    15045\n",
      "Name: contact_type, dtype: int64\n",
      "-------------------------------------------------------\n",
      "\n",
      "7 - p_outcome:\n",
      "nonexistent    35564\n",
      "failure         4252\n",
      "success         1373\n",
      "Name: p_outcome, dtype: int64\n",
      "-------------------------------------------------------\n",
      "\n",
      "8 - y:\n",
      "no     36460\n",
      "yes     4629\n",
      "NaN      100\n",
      "Name: y, dtype: int64\n",
      "-------------------------------------------------------\n",
      "\n"
     ]
    }
   ],
   "source": [
    "# Get categorical variable distribution\n",
    "for i, var in enumerate(var_cat):\n",
    "    print(str(i) + \" - \" + str(var) + \":\")\n",
    "    print(cmpn[var].value_counts(dropna=False))\n",
    "    print('-------------------------------------------------------')\n",
    "    print()"
   ]
  },
  {
   "cell_type": "markdown",
   "metadata": {},
   "source": [
    " "
   ]
  },
  {
   "cell_type": "markdown",
   "metadata": {},
   "source": [
    " "
   ]
  },
  {
   "cell_type": "markdown",
   "metadata": {},
   "source": [
    "## Task 2: Find the longest phone call record for each month"
   ]
  },
  {
   "cell_type": "code",
   "execution_count": 16,
   "metadata": {},
   "outputs": [],
   "source": [
    "# sort data by yrmth (ascending order) then duration(descending order)\n",
    "cmpn = cmpn.sort_values(by=['yrmth','duration'],ascending=[True,False])"
   ]
  },
  {
   "cell_type": "code",
   "execution_count": 17,
   "metadata": {},
   "outputs": [
    {
     "data": {
      "text/html": [
       "<div>\n",
       "<style scoped>\n",
       "    .dataframe tbody tr th:only-of-type {\n",
       "        vertical-align: middle;\n",
       "    }\n",
       "\n",
       "    .dataframe tbody tr th {\n",
       "        vertical-align: top;\n",
       "    }\n",
       "\n",
       "    .dataframe thead th {\n",
       "        text-align: right;\n",
       "    }\n",
       "</style>\n",
       "<table border=\"1\" class=\"dataframe\">\n",
       "  <thead>\n",
       "    <tr style=\"text-align: right;\">\n",
       "      <th></th>\n",
       "      <th>cust_id</th>\n",
       "      <th>age</th>\n",
       "      <th>job</th>\n",
       "      <th>marital</th>\n",
       "      <th>education</th>\n",
       "      <th>default</th>\n",
       "      <th>mortgage</th>\n",
       "      <th>loan</th>\n",
       "      <th>contact_type</th>\n",
       "      <th>duration</th>\n",
       "      <th>contact_num</th>\n",
       "      <th>p_days</th>\n",
       "      <th>p_outcome</th>\n",
       "      <th>y</th>\n",
       "      <th>duration_mins</th>\n",
       "      <th>date</th>\n",
       "      <th>yrmth</th>\n",
       "    </tr>\n",
       "  </thead>\n",
       "  <tbody>\n",
       "    <tr>\n",
       "      <th>15513</th>\n",
       "      <td>62371</td>\n",
       "      <td>37.0</td>\n",
       "      <td>unemployed</td>\n",
       "      <td>married</td>\n",
       "      <td>professional.course</td>\n",
       "      <td>no</td>\n",
       "      <td>yes</td>\n",
       "      <td>no</td>\n",
       "      <td>telephone</td>\n",
       "      <td>3631</td>\n",
       "      <td>2</td>\n",
       "      <td>999</td>\n",
       "      <td>nonexistent</td>\n",
       "      <td>yes</td>\n",
       "      <td>60.516667</td>\n",
       "      <td>2008-05-30</td>\n",
       "      <td>200805</td>\n",
       "    </tr>\n",
       "    <tr>\n",
       "      <th>36451</th>\n",
       "      <td>27256</td>\n",
       "      <td>39.0</td>\n",
       "      <td>self-employed</td>\n",
       "      <td>married</td>\n",
       "      <td>basic.4y</td>\n",
       "      <td></td>\n",
       "      <td>yes</td>\n",
       "      <td>no</td>\n",
       "      <td>telephone</td>\n",
       "      <td>3366</td>\n",
       "      <td>3</td>\n",
       "      <td>999</td>\n",
       "      <td>nonexistent</td>\n",
       "      <td>no</td>\n",
       "      <td>56.100000</td>\n",
       "      <td>2008-05-09</td>\n",
       "      <td>200805</td>\n",
       "    </tr>\n",
       "    <tr>\n",
       "      <th>38638</th>\n",
       "      <td>58930</td>\n",
       "      <td>30.0</td>\n",
       "      <td>self-employed</td>\n",
       "      <td>married</td>\n",
       "      <td>basic.9y</td>\n",
       "      <td>no</td>\n",
       "      <td>no</td>\n",
       "      <td>no</td>\n",
       "      <td>telephone</td>\n",
       "      <td>3094</td>\n",
       "      <td>2</td>\n",
       "      <td>999</td>\n",
       "      <td>nonexistent</td>\n",
       "      <td>yes</td>\n",
       "      <td>51.566667</td>\n",
       "      <td>2008-05-02</td>\n",
       "      <td>200805</td>\n",
       "    </tr>\n",
       "    <tr>\n",
       "      <th>34615</th>\n",
       "      <td>28278</td>\n",
       "      <td>42.0</td>\n",
       "      <td>management</td>\n",
       "      <td>married</td>\n",
       "      <td>basic.6y</td>\n",
       "      <td></td>\n",
       "      <td>yes</td>\n",
       "      <td>no</td>\n",
       "      <td>telephone</td>\n",
       "      <td>3078</td>\n",
       "      <td>4</td>\n",
       "      <td>999</td>\n",
       "      <td>nonexistent</td>\n",
       "      <td>no</td>\n",
       "      <td>51.300000</td>\n",
       "      <td>2008-05-29</td>\n",
       "      <td>200805</td>\n",
       "    </tr>\n",
       "    <tr>\n",
       "      <th>9780</th>\n",
       "      <td>18932</td>\n",
       "      <td>35.0</td>\n",
       "      <td>student</td>\n",
       "      <td>single</td>\n",
       "      <td>high.school</td>\n",
       "      <td>no</td>\n",
       "      <td>no</td>\n",
       "      <td>yes</td>\n",
       "      <td>telephone</td>\n",
       "      <td>2680</td>\n",
       "      <td>1</td>\n",
       "      <td>999</td>\n",
       "      <td>nonexistent</td>\n",
       "      <td>yes</td>\n",
       "      <td>44.666667</td>\n",
       "      <td>2008-05-12</td>\n",
       "      <td>200805</td>\n",
       "    </tr>\n",
       "  </tbody>\n",
       "</table>\n",
       "</div>"
      ],
      "text/plain": [
       "       cust_id   age            job  marital            education default  \\\n",
       "15513    62371  37.0     unemployed  married  professional.course      no   \n",
       "36451    27256  39.0  self-employed  married             basic.4y           \n",
       "38638    58930  30.0  self-employed  married             basic.9y      no   \n",
       "34615    28278  42.0     management  married             basic.6y           \n",
       "9780     18932  35.0        student   single          high.school      no   \n",
       "\n",
       "      mortgage loan contact_type  duration  contact_num  p_days    p_outcome  \\\n",
       "15513      yes   no    telephone      3631            2     999  nonexistent   \n",
       "36451      yes   no    telephone      3366            3     999  nonexistent   \n",
       "38638       no   no    telephone      3094            2     999  nonexistent   \n",
       "34615      yes   no    telephone      3078            4     999  nonexistent   \n",
       "9780        no  yes    telephone      2680            1     999  nonexistent   \n",
       "\n",
       "         y  duration_mins       date   yrmth  \n",
       "15513  yes      60.516667 2008-05-30  200805  \n",
       "36451   no      56.100000 2008-05-09  200805  \n",
       "38638  yes      51.566667 2008-05-02  200805  \n",
       "34615   no      51.300000 2008-05-29  200805  \n",
       "9780   yes      44.666667 2008-05-12  200805  "
      ]
     },
     "execution_count": 17,
     "metadata": {},
     "output_type": "execute_result"
    }
   ],
   "source": [
    "cmpn.head()"
   ]
  },
  {
   "cell_type": "code",
   "execution_count": 18,
   "metadata": {},
   "outputs": [
    {
     "data": {
      "text/plain": [
       "(26, 17)"
      ]
     },
     "execution_count": 18,
     "metadata": {},
     "output_type": "execute_result"
    }
   ],
   "source": [
    "# Get first record for each yrmth \n",
    "res = cmpn.drop_duplicates(subset='yrmth', keep='first')\n",
    "res.shape"
   ]
  },
  {
   "cell_type": "code",
   "execution_count": 19,
   "metadata": {
    "scrolled": true
   },
   "outputs": [
    {
     "data": {
      "text/html": [
       "<div>\n",
       "<style scoped>\n",
       "    .dataframe tbody tr th:only-of-type {\n",
       "        vertical-align: middle;\n",
       "    }\n",
       "\n",
       "    .dataframe tbody tr th {\n",
       "        vertical-align: top;\n",
       "    }\n",
       "\n",
       "    .dataframe thead th {\n",
       "        text-align: right;\n",
       "    }\n",
       "</style>\n",
       "<table border=\"1\" class=\"dataframe\">\n",
       "  <thead>\n",
       "    <tr style=\"text-align: right;\">\n",
       "      <th></th>\n",
       "      <th>cust_id</th>\n",
       "      <th>age</th>\n",
       "      <th>job</th>\n",
       "      <th>marital</th>\n",
       "      <th>education</th>\n",
       "      <th>default</th>\n",
       "      <th>mortgage</th>\n",
       "      <th>loan</th>\n",
       "      <th>contact_type</th>\n",
       "      <th>duration</th>\n",
       "      <th>contact_num</th>\n",
       "      <th>p_days</th>\n",
       "      <th>p_outcome</th>\n",
       "      <th>y</th>\n",
       "      <th>duration_mins</th>\n",
       "      <th>date</th>\n",
       "      <th>yrmth</th>\n",
       "    </tr>\n",
       "  </thead>\n",
       "  <tbody>\n",
       "    <tr>\n",
       "      <th>15513</th>\n",
       "      <td>62371</td>\n",
       "      <td>37.0</td>\n",
       "      <td>unemployed</td>\n",
       "      <td>married</td>\n",
       "      <td>professional.course</td>\n",
       "      <td>no</td>\n",
       "      <td>yes</td>\n",
       "      <td>no</td>\n",
       "      <td>telephone</td>\n",
       "      <td>3631</td>\n",
       "      <td>2</td>\n",
       "      <td>999</td>\n",
       "      <td>nonexistent</td>\n",
       "      <td>yes</td>\n",
       "      <td>60.516667</td>\n",
       "      <td>2008-05-30</td>\n",
       "      <td>200805</td>\n",
       "    </tr>\n",
       "    <tr>\n",
       "      <th>30031</th>\n",
       "      <td>83650</td>\n",
       "      <td>58.0</td>\n",
       "      <td>retired</td>\n",
       "      <td>married</td>\n",
       "      <td>high.school</td>\n",
       "      <td>no</td>\n",
       "      <td>yes</td>\n",
       "      <td>no</td>\n",
       "      <td>telephone</td>\n",
       "      <td>3183</td>\n",
       "      <td>2</td>\n",
       "      <td>999</td>\n",
       "      <td>nonexistent</td>\n",
       "      <td>yes</td>\n",
       "      <td>53.050000</td>\n",
       "      <td>2008-06-24</td>\n",
       "      <td>200806</td>\n",
       "    </tr>\n",
       "    <tr>\n",
       "      <th>7862</th>\n",
       "      <td>43355</td>\n",
       "      <td>31.0</td>\n",
       "      <td>technician</td>\n",
       "      <td>married</td>\n",
       "      <td>professional.course</td>\n",
       "      <td>no</td>\n",
       "      <td>no</td>\n",
       "      <td>no</td>\n",
       "      <td>cellular</td>\n",
       "      <td>3643</td>\n",
       "      <td>1</td>\n",
       "      <td>999</td>\n",
       "      <td>nonexistent</td>\n",
       "      <td>yes</td>\n",
       "      <td>60.716667</td>\n",
       "      <td>2008-07-09</td>\n",
       "      <td>200807</td>\n",
       "    </tr>\n",
       "    <tr>\n",
       "      <th>1227</th>\n",
       "      <td>94202</td>\n",
       "      <td>52.0</td>\n",
       "      <td>blue-collar</td>\n",
       "      <td>married</td>\n",
       "      <td>basic.4y</td>\n",
       "      <td>no</td>\n",
       "      <td>no</td>\n",
       "      <td>no</td>\n",
       "      <td>telephone</td>\n",
       "      <td>4199</td>\n",
       "      <td>3</td>\n",
       "      <td>999</td>\n",
       "      <td>nonexistent</td>\n",
       "      <td>yes</td>\n",
       "      <td>69.983333</td>\n",
       "      <td>2008-08-05</td>\n",
       "      <td>200808</td>\n",
       "    </tr>\n",
       "    <tr>\n",
       "      <th>29646</th>\n",
       "      <td>76052</td>\n",
       "      <td>27.0</td>\n",
       "      <td>blue-collar</td>\n",
       "      <td>single</td>\n",
       "      <td>professional.course</td>\n",
       "      <td>no</td>\n",
       "      <td>yes</td>\n",
       "      <td>no</td>\n",
       "      <td>telephone</td>\n",
       "      <td>3284</td>\n",
       "      <td>1</td>\n",
       "      <td>999</td>\n",
       "      <td>nonexistent</td>\n",
       "      <td>no</td>\n",
       "      <td>54.733333</td>\n",
       "      <td>2008-10-22</td>\n",
       "      <td>200810</td>\n",
       "    </tr>\n",
       "    <tr>\n",
       "      <th>33315</th>\n",
       "      <td>58184</td>\n",
       "      <td>33.0</td>\n",
       "      <td>technician</td>\n",
       "      <td>single</td>\n",
       "      <td>professional.course</td>\n",
       "      <td>no</td>\n",
       "      <td>yes</td>\n",
       "      <td>no</td>\n",
       "      <td>telephone</td>\n",
       "      <td>4918</td>\n",
       "      <td>1</td>\n",
       "      <td>999</td>\n",
       "      <td>nonexistent</td>\n",
       "      <td>no</td>\n",
       "      <td>81.966667</td>\n",
       "      <td>2008-11-13</td>\n",
       "      <td>200811</td>\n",
       "    </tr>\n",
       "    <tr>\n",
       "      <th>24886</th>\n",
       "      <td>99947</td>\n",
       "      <td>48.0</td>\n",
       "      <td>admin.</td>\n",
       "      <td>married</td>\n",
       "      <td>high.school</td>\n",
       "      <td>no</td>\n",
       "      <td>yes</td>\n",
       "      <td>yes</td>\n",
       "      <td>telephone</td>\n",
       "      <td>291</td>\n",
       "      <td>1</td>\n",
       "      <td>999</td>\n",
       "      <td>nonexistent</td>\n",
       "      <td>no</td>\n",
       "      <td>4.850000</td>\n",
       "      <td>2008-12-26</td>\n",
       "      <td>200812</td>\n",
       "    </tr>\n",
       "    <tr>\n",
       "      <th>19821</th>\n",
       "      <td>36078</td>\n",
       "      <td>28.0</td>\n",
       "      <td>self-employed</td>\n",
       "      <td>single</td>\n",
       "      <td>university.degree</td>\n",
       "      <td>no</td>\n",
       "      <td>yes</td>\n",
       "      <td>yes</td>\n",
       "      <td>cellular</td>\n",
       "      <td>3076</td>\n",
       "      <td>1</td>\n",
       "      <td>999</td>\n",
       "      <td>nonexistent</td>\n",
       "      <td>yes</td>\n",
       "      <td>51.266667</td>\n",
       "      <td>2009-03-02</td>\n",
       "      <td>200903</td>\n",
       "    </tr>\n",
       "    <tr>\n",
       "      <th>13670</th>\n",
       "      <td>75336</td>\n",
       "      <td>40.0</td>\n",
       "      <td>housemaid</td>\n",
       "      <td>married</td>\n",
       "      <td>basic.6y</td>\n",
       "      <td></td>\n",
       "      <td></td>\n",
       "      <td></td>\n",
       "      <td>cellular</td>\n",
       "      <td>2926</td>\n",
       "      <td>2</td>\n",
       "      <td>999</td>\n",
       "      <td>nonexistent</td>\n",
       "      <td>yes</td>\n",
       "      <td>48.766667</td>\n",
       "      <td>2009-04-06</td>\n",
       "      <td>200904</td>\n",
       "    </tr>\n",
       "    <tr>\n",
       "      <th>6128</th>\n",
       "      <td>87813</td>\n",
       "      <td>28.0</td>\n",
       "      <td>blue-collar</td>\n",
       "      <td>married</td>\n",
       "      <td>basic.9y</td>\n",
       "      <td>no</td>\n",
       "      <td>yes</td>\n",
       "      <td>no</td>\n",
       "      <td>cellular</td>\n",
       "      <td>3509</td>\n",
       "      <td>2</td>\n",
       "      <td>3</td>\n",
       "      <td>success</td>\n",
       "      <td>no</td>\n",
       "      <td>58.483333</td>\n",
       "      <td>2009-05-15</td>\n",
       "      <td>200905</td>\n",
       "    </tr>\n",
       "    <tr>\n",
       "      <th>16363</th>\n",
       "      <td>50370</td>\n",
       "      <td>39.0</td>\n",
       "      <td>admin.</td>\n",
       "      <td>married</td>\n",
       "      <td>university.degree</td>\n",
       "      <td>no</td>\n",
       "      <td>no</td>\n",
       "      <td>no</td>\n",
       "      <td>cellular</td>\n",
       "      <td>2219</td>\n",
       "      <td>1</td>\n",
       "      <td>999</td>\n",
       "      <td>failure</td>\n",
       "      <td>no</td>\n",
       "      <td>36.983333</td>\n",
       "      <td>2009-06-10</td>\n",
       "      <td>200906</td>\n",
       "    </tr>\n",
       "    <tr>\n",
       "      <th>23738</th>\n",
       "      <td>34423</td>\n",
       "      <td>35.0</td>\n",
       "      <td>entrepreneur</td>\n",
       "      <td>married</td>\n",
       "      <td>high.school</td>\n",
       "      <td>no</td>\n",
       "      <td>no</td>\n",
       "      <td>no</td>\n",
       "      <td>cellular</td>\n",
       "      <td>1084</td>\n",
       "      <td>4</td>\n",
       "      <td>999</td>\n",
       "      <td>nonexistent</td>\n",
       "      <td>yes</td>\n",
       "      <td>18.066667</td>\n",
       "      <td>2009-07-17</td>\n",
       "      <td>200907</td>\n",
       "    </tr>\n",
       "    <tr>\n",
       "      <th>39433</th>\n",
       "      <td>25842</td>\n",
       "      <td>43.0</td>\n",
       "      <td>self-employed</td>\n",
       "      <td>divorced</td>\n",
       "      <td>university.degree</td>\n",
       "      <td>no</td>\n",
       "      <td>no</td>\n",
       "      <td>no</td>\n",
       "      <td>cellular</td>\n",
       "      <td>1529</td>\n",
       "      <td>1</td>\n",
       "      <td>999</td>\n",
       "      <td>failure</td>\n",
       "      <td>no</td>\n",
       "      <td>25.483333</td>\n",
       "      <td>2009-08-17</td>\n",
       "      <td>200908</td>\n",
       "    </tr>\n",
       "    <tr>\n",
       "      <th>2191</th>\n",
       "      <td>19818</td>\n",
       "      <td>71.0</td>\n",
       "      <td>retired</td>\n",
       "      <td>married</td>\n",
       "      <td>basic.4y</td>\n",
       "      <td>no</td>\n",
       "      <td>yes</td>\n",
       "      <td>no</td>\n",
       "      <td>telephone</td>\n",
       "      <td>2055</td>\n",
       "      <td>1</td>\n",
       "      <td>999</td>\n",
       "      <td>nonexistent</td>\n",
       "      <td>no</td>\n",
       "      <td>34.250000</td>\n",
       "      <td>2009-09-25</td>\n",
       "      <td>200909</td>\n",
       "    </tr>\n",
       "    <tr>\n",
       "      <th>23223</th>\n",
       "      <td>39885</td>\n",
       "      <td>59.0</td>\n",
       "      <td>housemaid</td>\n",
       "      <td>married</td>\n",
       "      <td>basic.4y</td>\n",
       "      <td>no</td>\n",
       "      <td>no</td>\n",
       "      <td>no</td>\n",
       "      <td>telephone</td>\n",
       "      <td>2187</td>\n",
       "      <td>1</td>\n",
       "      <td>999</td>\n",
       "      <td>nonexistent</td>\n",
       "      <td>no</td>\n",
       "      <td>36.450000</td>\n",
       "      <td>2009-10-07</td>\n",
       "      <td>200910</td>\n",
       "    </tr>\n",
       "    <tr>\n",
       "      <th>16547</th>\n",
       "      <td>61500</td>\n",
       "      <td>32.0</td>\n",
       "      <td>admin.</td>\n",
       "      <td>single</td>\n",
       "      <td>university.degree</td>\n",
       "      <td>no</td>\n",
       "      <td>yes</td>\n",
       "      <td>no</td>\n",
       "      <td>telephone</td>\n",
       "      <td>2184</td>\n",
       "      <td>2</td>\n",
       "      <td>999</td>\n",
       "      <td>failure</td>\n",
       "      <td>yes</td>\n",
       "      <td>36.400000</td>\n",
       "      <td>2009-11-02</td>\n",
       "      <td>200911</td>\n",
       "    </tr>\n",
       "    <tr>\n",
       "      <th>24366</th>\n",
       "      <td>40679</td>\n",
       "      <td>43.0</td>\n",
       "      <td>management</td>\n",
       "      <td>married</td>\n",
       "      <td>NaN</td>\n",
       "      <td>no</td>\n",
       "      <td>yes</td>\n",
       "      <td>no</td>\n",
       "      <td>telephone</td>\n",
       "      <td>2062</td>\n",
       "      <td>2</td>\n",
       "      <td>8</td>\n",
       "      <td>success</td>\n",
       "      <td>yes</td>\n",
       "      <td>34.366667</td>\n",
       "      <td>2009-12-02</td>\n",
       "      <td>200912</td>\n",
       "    </tr>\n",
       "    <tr>\n",
       "      <th>12562</th>\n",
       "      <td>64008</td>\n",
       "      <td>53.0</td>\n",
       "      <td>admin.</td>\n",
       "      <td>divorced</td>\n",
       "      <td>university.degree</td>\n",
       "      <td>no</td>\n",
       "      <td>no</td>\n",
       "      <td>no</td>\n",
       "      <td>cellular</td>\n",
       "      <td>2486</td>\n",
       "      <td>1</td>\n",
       "      <td>999</td>\n",
       "      <td>nonexistent</td>\n",
       "      <td>yes</td>\n",
       "      <td>41.433333</td>\n",
       "      <td>2010-03-20</td>\n",
       "      <td>201003</td>\n",
       "    </tr>\n",
       "    <tr>\n",
       "      <th>22337</th>\n",
       "      <td>80822</td>\n",
       "      <td>NaN</td>\n",
       "      <td>student</td>\n",
       "      <td>single</td>\n",
       "      <td>high.school</td>\n",
       "      <td>no</td>\n",
       "      <td>no</td>\n",
       "      <td>no</td>\n",
       "      <td>cellular</td>\n",
       "      <td>1472</td>\n",
       "      <td>1</td>\n",
       "      <td>999</td>\n",
       "      <td>failure</td>\n",
       "      <td>yes</td>\n",
       "      <td>24.533333</td>\n",
       "      <td>2010-04-07</td>\n",
       "      <td>201004</td>\n",
       "    </tr>\n",
       "    <tr>\n",
       "      <th>38950</th>\n",
       "      <td>22866</td>\n",
       "      <td>51.0</td>\n",
       "      <td>services</td>\n",
       "      <td>married</td>\n",
       "      <td>high.school</td>\n",
       "      <td>no</td>\n",
       "      <td>no</td>\n",
       "      <td>no</td>\n",
       "      <td>cellular</td>\n",
       "      <td>1267</td>\n",
       "      <td>1</td>\n",
       "      <td>999</td>\n",
       "      <td>failure</td>\n",
       "      <td>yes</td>\n",
       "      <td>21.116667</td>\n",
       "      <td>2010-05-03</td>\n",
       "      <td>201005</td>\n",
       "    </tr>\n",
       "    <tr>\n",
       "      <th>17859</th>\n",
       "      <td>26987</td>\n",
       "      <td>43.0</td>\n",
       "      <td>blue-collar</td>\n",
       "      <td>married</td>\n",
       "      <td>professional.course</td>\n",
       "      <td>no</td>\n",
       "      <td>yes</td>\n",
       "      <td>yes</td>\n",
       "      <td>cellular</td>\n",
       "      <td>1720</td>\n",
       "      <td>1</td>\n",
       "      <td>999</td>\n",
       "      <td>nonexistent</td>\n",
       "      <td>yes</td>\n",
       "      <td>28.666667</td>\n",
       "      <td>2010-06-28</td>\n",
       "      <td>201006</td>\n",
       "    </tr>\n",
       "    <tr>\n",
       "      <th>17122</th>\n",
       "      <td>9723</td>\n",
       "      <td>43.0</td>\n",
       "      <td>technician</td>\n",
       "      <td>married</td>\n",
       "      <td>professional.course</td>\n",
       "      <td>no</td>\n",
       "      <td>yes</td>\n",
       "      <td>no</td>\n",
       "      <td>cellular</td>\n",
       "      <td>1193</td>\n",
       "      <td>1</td>\n",
       "      <td>999</td>\n",
       "      <td>nonexistent</td>\n",
       "      <td>yes</td>\n",
       "      <td>19.883333</td>\n",
       "      <td>2010-07-05</td>\n",
       "      <td>201007</td>\n",
       "    </tr>\n",
       "    <tr>\n",
       "      <th>38765</th>\n",
       "      <td>81136</td>\n",
       "      <td>27.0</td>\n",
       "      <td>admin.</td>\n",
       "      <td>single</td>\n",
       "      <td>high.school</td>\n",
       "      <td>no</td>\n",
       "      <td>no</td>\n",
       "      <td>no</td>\n",
       "      <td>telephone</td>\n",
       "      <td>3785</td>\n",
       "      <td>1</td>\n",
       "      <td>999</td>\n",
       "      <td>nonexistent</td>\n",
       "      <td>no</td>\n",
       "      <td>63.083333</td>\n",
       "      <td>2010-08-10</td>\n",
       "      <td>201008</td>\n",
       "    </tr>\n",
       "    <tr>\n",
       "      <th>12235</th>\n",
       "      <td>85867</td>\n",
       "      <td>60.0</td>\n",
       "      <td>retired</td>\n",
       "      <td>married</td>\n",
       "      <td>high.school</td>\n",
       "      <td>no</td>\n",
       "      <td>no</td>\n",
       "      <td>no</td>\n",
       "      <td>cellular</td>\n",
       "      <td>1640</td>\n",
       "      <td>1</td>\n",
       "      <td>999</td>\n",
       "      <td>nonexistent</td>\n",
       "      <td>yes</td>\n",
       "      <td>27.333333</td>\n",
       "      <td>2010-09-27</td>\n",
       "      <td>201009</td>\n",
       "    </tr>\n",
       "    <tr>\n",
       "      <th>20130</th>\n",
       "      <td>3853</td>\n",
       "      <td>28.0</td>\n",
       "      <td>admin.</td>\n",
       "      <td>single</td>\n",
       "      <td>high.school</td>\n",
       "      <td>no</td>\n",
       "      <td>no</td>\n",
       "      <td>no</td>\n",
       "      <td>cellular</td>\n",
       "      <td>1246</td>\n",
       "      <td>2</td>\n",
       "      <td>999</td>\n",
       "      <td>nonexistent</td>\n",
       "      <td>yes</td>\n",
       "      <td>20.766667</td>\n",
       "      <td>2010-10-24</td>\n",
       "      <td>201010</td>\n",
       "    </tr>\n",
       "    <tr>\n",
       "      <th>33608</th>\n",
       "      <td>66602</td>\n",
       "      <td>54.0</td>\n",
       "      <td>admin.</td>\n",
       "      <td>married</td>\n",
       "      <td>professional.course</td>\n",
       "      <td>no</td>\n",
       "      <td>no</td>\n",
       "      <td>no</td>\n",
       "      <td>cellular</td>\n",
       "      <td>1868</td>\n",
       "      <td>2</td>\n",
       "      <td>10</td>\n",
       "      <td>success</td>\n",
       "      <td>yes</td>\n",
       "      <td>31.133333</td>\n",
       "      <td>2010-11-11</td>\n",
       "      <td>201011</td>\n",
       "    </tr>\n",
       "  </tbody>\n",
       "</table>\n",
       "</div>"
      ],
      "text/plain": [
       "       cust_id   age            job   marital            education default  \\\n",
       "15513    62371  37.0     unemployed   married  professional.course      no   \n",
       "30031    83650  58.0        retired   married          high.school      no   \n",
       "7862     43355  31.0     technician   married  professional.course      no   \n",
       "1227     94202  52.0    blue-collar   married             basic.4y      no   \n",
       "29646    76052  27.0    blue-collar    single  professional.course      no   \n",
       "33315    58184  33.0     technician    single  professional.course      no   \n",
       "24886    99947  48.0         admin.   married          high.school      no   \n",
       "19821    36078  28.0  self-employed    single    university.degree      no   \n",
       "13670    75336  40.0      housemaid   married             basic.6y           \n",
       "6128     87813  28.0    blue-collar   married             basic.9y      no   \n",
       "16363    50370  39.0         admin.   married    university.degree      no   \n",
       "23738    34423  35.0   entrepreneur   married          high.school      no   \n",
       "39433    25842  43.0  self-employed  divorced    university.degree      no   \n",
       "2191     19818  71.0        retired   married             basic.4y      no   \n",
       "23223    39885  59.0      housemaid   married             basic.4y      no   \n",
       "16547    61500  32.0         admin.    single    university.degree      no   \n",
       "24366    40679  43.0     management   married                  NaN      no   \n",
       "12562    64008  53.0         admin.  divorced    university.degree      no   \n",
       "22337    80822   NaN        student    single          high.school      no   \n",
       "38950    22866  51.0       services   married          high.school      no   \n",
       "17859    26987  43.0    blue-collar   married  professional.course      no   \n",
       "17122     9723  43.0     technician   married  professional.course      no   \n",
       "38765    81136  27.0         admin.    single          high.school      no   \n",
       "12235    85867  60.0        retired   married          high.school      no   \n",
       "20130     3853  28.0         admin.    single          high.school      no   \n",
       "33608    66602  54.0         admin.   married  professional.course      no   \n",
       "\n",
       "      mortgage loan contact_type  duration  contact_num  p_days    p_outcome  \\\n",
       "15513      yes   no    telephone      3631            2     999  nonexistent   \n",
       "30031      yes   no    telephone      3183            2     999  nonexistent   \n",
       "7862        no   no     cellular      3643            1     999  nonexistent   \n",
       "1227        no   no    telephone      4199            3     999  nonexistent   \n",
       "29646      yes   no    telephone      3284            1     999  nonexistent   \n",
       "33315      yes   no    telephone      4918            1     999  nonexistent   \n",
       "24886      yes  yes    telephone       291            1     999  nonexistent   \n",
       "19821      yes  yes     cellular      3076            1     999  nonexistent   \n",
       "13670                   cellular      2926            2     999  nonexistent   \n",
       "6128       yes   no     cellular      3509            2       3      success   \n",
       "16363       no   no     cellular      2219            1     999      failure   \n",
       "23738       no   no     cellular      1084            4     999  nonexistent   \n",
       "39433       no   no     cellular      1529            1     999      failure   \n",
       "2191       yes   no    telephone      2055            1     999  nonexistent   \n",
       "23223       no   no    telephone      2187            1     999  nonexistent   \n",
       "16547      yes   no    telephone      2184            2     999      failure   \n",
       "24366      yes   no    telephone      2062            2       8      success   \n",
       "12562       no   no     cellular      2486            1     999  nonexistent   \n",
       "22337       no   no     cellular      1472            1     999      failure   \n",
       "38950       no   no     cellular      1267            1     999      failure   \n",
       "17859      yes  yes     cellular      1720            1     999  nonexistent   \n",
       "17122      yes   no     cellular      1193            1     999  nonexistent   \n",
       "38765       no   no    telephone      3785            1     999  nonexistent   \n",
       "12235       no   no     cellular      1640            1     999  nonexistent   \n",
       "20130       no   no     cellular      1246            2     999  nonexistent   \n",
       "33608       no   no     cellular      1868            2      10      success   \n",
       "\n",
       "         y  duration_mins       date   yrmth  \n",
       "15513  yes      60.516667 2008-05-30  200805  \n",
       "30031  yes      53.050000 2008-06-24  200806  \n",
       "7862   yes      60.716667 2008-07-09  200807  \n",
       "1227   yes      69.983333 2008-08-05  200808  \n",
       "29646   no      54.733333 2008-10-22  200810  \n",
       "33315   no      81.966667 2008-11-13  200811  \n",
       "24886   no       4.850000 2008-12-26  200812  \n",
       "19821  yes      51.266667 2009-03-02  200903  \n",
       "13670  yes      48.766667 2009-04-06  200904  \n",
       "6128    no      58.483333 2009-05-15  200905  \n",
       "16363   no      36.983333 2009-06-10  200906  \n",
       "23738  yes      18.066667 2009-07-17  200907  \n",
       "39433   no      25.483333 2009-08-17  200908  \n",
       "2191    no      34.250000 2009-09-25  200909  \n",
       "23223   no      36.450000 2009-10-07  200910  \n",
       "16547  yes      36.400000 2009-11-02  200911  \n",
       "24366  yes      34.366667 2009-12-02  200912  \n",
       "12562  yes      41.433333 2010-03-20  201003  \n",
       "22337  yes      24.533333 2010-04-07  201004  \n",
       "38950  yes      21.116667 2010-05-03  201005  \n",
       "17859  yes      28.666667 2010-06-28  201006  \n",
       "17122  yes      19.883333 2010-07-05  201007  \n",
       "38765   no      63.083333 2010-08-10  201008  \n",
       "12235  yes      27.333333 2010-09-27  201009  \n",
       "20130  yes      20.766667 2010-10-24  201010  \n",
       "33608  yes      31.133333 2010-11-11  201011  "
      ]
     },
     "execution_count": 19,
     "metadata": {},
     "output_type": "execute_result"
    }
   ],
   "source": [
    "cmpn.groupby('yrmth').head(1)"
   ]
  },
  {
   "cell_type": "code",
   "execution_count": 20,
   "metadata": {},
   "outputs": [
    {
     "data": {
      "text/html": [
       "<div>\n",
       "<style scoped>\n",
       "    .dataframe tbody tr th:only-of-type {\n",
       "        vertical-align: middle;\n",
       "    }\n",
       "\n",
       "    .dataframe tbody tr th {\n",
       "        vertical-align: top;\n",
       "    }\n",
       "\n",
       "    .dataframe thead th {\n",
       "        text-align: right;\n",
       "    }\n",
       "</style>\n",
       "<table border=\"1\" class=\"dataframe\">\n",
       "  <thead>\n",
       "    <tr style=\"text-align: right;\">\n",
       "      <th></th>\n",
       "      <th>cust_id</th>\n",
       "      <th>age</th>\n",
       "      <th>job</th>\n",
       "      <th>marital</th>\n",
       "      <th>education</th>\n",
       "      <th>default</th>\n",
       "      <th>mortgage</th>\n",
       "      <th>loan</th>\n",
       "      <th>contact_type</th>\n",
       "      <th>duration</th>\n",
       "      <th>contact_num</th>\n",
       "      <th>p_days</th>\n",
       "      <th>p_outcome</th>\n",
       "      <th>y</th>\n",
       "      <th>duration_mins</th>\n",
       "      <th>date</th>\n",
       "      <th>yrmth</th>\n",
       "    </tr>\n",
       "  </thead>\n",
       "  <tbody>\n",
       "    <tr>\n",
       "      <th>15513</th>\n",
       "      <td>62371</td>\n",
       "      <td>37.0</td>\n",
       "      <td>unemployed</td>\n",
       "      <td>married</td>\n",
       "      <td>professional.course</td>\n",
       "      <td>no</td>\n",
       "      <td>yes</td>\n",
       "      <td>no</td>\n",
       "      <td>telephone</td>\n",
       "      <td>3631</td>\n",
       "      <td>2</td>\n",
       "      <td>999</td>\n",
       "      <td>nonexistent</td>\n",
       "      <td>yes</td>\n",
       "      <td>60.516667</td>\n",
       "      <td>2008-05-30</td>\n",
       "      <td>200805</td>\n",
       "    </tr>\n",
       "    <tr>\n",
       "      <th>30031</th>\n",
       "      <td>83650</td>\n",
       "      <td>58.0</td>\n",
       "      <td>retired</td>\n",
       "      <td>married</td>\n",
       "      <td>high.school</td>\n",
       "      <td>no</td>\n",
       "      <td>yes</td>\n",
       "      <td>no</td>\n",
       "      <td>telephone</td>\n",
       "      <td>3183</td>\n",
       "      <td>2</td>\n",
       "      <td>999</td>\n",
       "      <td>nonexistent</td>\n",
       "      <td>yes</td>\n",
       "      <td>53.050000</td>\n",
       "      <td>2008-06-24</td>\n",
       "      <td>200806</td>\n",
       "    </tr>\n",
       "    <tr>\n",
       "      <th>7862</th>\n",
       "      <td>43355</td>\n",
       "      <td>31.0</td>\n",
       "      <td>technician</td>\n",
       "      <td>married</td>\n",
       "      <td>professional.course</td>\n",
       "      <td>no</td>\n",
       "      <td>no</td>\n",
       "      <td>no</td>\n",
       "      <td>cellular</td>\n",
       "      <td>3643</td>\n",
       "      <td>1</td>\n",
       "      <td>999</td>\n",
       "      <td>nonexistent</td>\n",
       "      <td>yes</td>\n",
       "      <td>60.716667</td>\n",
       "      <td>2008-07-09</td>\n",
       "      <td>200807</td>\n",
       "    </tr>\n",
       "    <tr>\n",
       "      <th>1227</th>\n",
       "      <td>94202</td>\n",
       "      <td>52.0</td>\n",
       "      <td>blue-collar</td>\n",
       "      <td>married</td>\n",
       "      <td>basic.4y</td>\n",
       "      <td>no</td>\n",
       "      <td>no</td>\n",
       "      <td>no</td>\n",
       "      <td>telephone</td>\n",
       "      <td>4199</td>\n",
       "      <td>3</td>\n",
       "      <td>999</td>\n",
       "      <td>nonexistent</td>\n",
       "      <td>yes</td>\n",
       "      <td>69.983333</td>\n",
       "      <td>2008-08-05</td>\n",
       "      <td>200808</td>\n",
       "    </tr>\n",
       "    <tr>\n",
       "      <th>29646</th>\n",
       "      <td>76052</td>\n",
       "      <td>27.0</td>\n",
       "      <td>blue-collar</td>\n",
       "      <td>single</td>\n",
       "      <td>professional.course</td>\n",
       "      <td>no</td>\n",
       "      <td>yes</td>\n",
       "      <td>no</td>\n",
       "      <td>telephone</td>\n",
       "      <td>3284</td>\n",
       "      <td>1</td>\n",
       "      <td>999</td>\n",
       "      <td>nonexistent</td>\n",
       "      <td>no</td>\n",
       "      <td>54.733333</td>\n",
       "      <td>2008-10-22</td>\n",
       "      <td>200810</td>\n",
       "    </tr>\n",
       "  </tbody>\n",
       "</table>\n",
       "</div>"
      ],
      "text/plain": [
       "       cust_id   age          job  marital            education default  \\\n",
       "15513    62371  37.0   unemployed  married  professional.course      no   \n",
       "30031    83650  58.0      retired  married          high.school      no   \n",
       "7862     43355  31.0   technician  married  professional.course      no   \n",
       "1227     94202  52.0  blue-collar  married             basic.4y      no   \n",
       "29646    76052  27.0  blue-collar   single  professional.course      no   \n",
       "\n",
       "      mortgage loan contact_type  duration  contact_num  p_days    p_outcome  \\\n",
       "15513      yes   no    telephone      3631            2     999  nonexistent   \n",
       "30031      yes   no    telephone      3183            2     999  nonexistent   \n",
       "7862        no   no     cellular      3643            1     999  nonexistent   \n",
       "1227        no   no    telephone      4199            3     999  nonexistent   \n",
       "29646      yes   no    telephone      3284            1     999  nonexistent   \n",
       "\n",
       "         y  duration_mins       date   yrmth  \n",
       "15513  yes      60.516667 2008-05-30  200805  \n",
       "30031  yes      53.050000 2008-06-24  200806  \n",
       "7862   yes      60.716667 2008-07-09  200807  \n",
       "1227   yes      69.983333 2008-08-05  200808  \n",
       "29646   no      54.733333 2008-10-22  200810  "
      ]
     },
     "execution_count": 20,
     "metadata": {},
     "output_type": "execute_result"
    }
   ],
   "source": [
    "res.head()"
   ]
  },
  {
   "cell_type": "code",
   "execution_count": 21,
   "metadata": {},
   "outputs": [
    {
     "name": "stdout",
     "output_type": "stream",
     "text": [
      "26\n",
      "26\n"
     ]
    }
   ],
   "source": [
    "# Check unique yrmth\n",
    "print(len(res.yrmth.unique()))\n",
    "print(len(res.yrmth.value_counts().index))"
   ]
  },
  {
   "cell_type": "markdown",
   "metadata": {},
   "source": [
    " "
   ]
  },
  {
   "cell_type": "markdown",
   "metadata": {},
   "source": [
    " "
   ]
  },
  {
   "cell_type": "markdown",
   "metadata": {},
   "source": [
    "## Task 3 Data Cleaning to remove and impute missing values"
   ]
  },
  {
   "cell_type": "code",
   "execution_count": 22,
   "metadata": {},
   "outputs": [
    {
     "data": {
      "text/plain": [
       "(41189, 17)"
      ]
     },
     "execution_count": 22,
     "metadata": {},
     "output_type": "execute_result"
    }
   ],
   "source": [
    "cmpn = pd.read_pickle('./data/cmpn.pkl')\n",
    "cmpn.shape"
   ]
  },
  {
   "cell_type": "markdown",
   "metadata": {},
   "source": [
    "#### a Remove Duplicates"
   ]
  },
  {
   "cell_type": "code",
   "execution_count": 23,
   "metadata": {},
   "outputs": [],
   "source": [
    "# Drop duplicated records\n",
    "cmpn = cmpn.drop_duplicates()"
   ]
  },
  {
   "cell_type": "code",
   "execution_count": 24,
   "metadata": {},
   "outputs": [
    {
     "data": {
      "text/plain": [
       "(41188, 17)"
      ]
     },
     "execution_count": 24,
     "metadata": {},
     "output_type": "execute_result"
    }
   ],
   "source": [
    "cmpn.shape"
   ]
  },
  {
   "cell_type": "markdown",
   "metadata": {},
   "source": [
    "#### b Check Missing Values"
   ]
  },
  {
   "cell_type": "code",
   "execution_count": 25,
   "metadata": {},
   "outputs": [
    {
     "name": "stdout",
     "output_type": "stream",
     "text": [
      "<class 'pandas.core.frame.DataFrame'>\n",
      "Int64Index: 41188 entries, 0 to 41187\n",
      "Data columns (total 17 columns):\n",
      " #   Column         Non-Null Count  Dtype         \n",
      "---  ------         --------------  -----         \n",
      " 0   cust_id        41188 non-null  int64         \n",
      " 1   age            40688 non-null  float64       \n",
      " 2   job            41188 non-null  object        \n",
      " 3   marital        41188 non-null  object        \n",
      " 4   education      39457 non-null  object        \n",
      " 5   default        41188 non-null  object        \n",
      " 6   mortgage       41188 non-null  object        \n",
      " 7   loan           41188 non-null  object        \n",
      " 8   contact_type   41188 non-null  object        \n",
      " 9   duration       41188 non-null  int64         \n",
      " 10  contact_num    41188 non-null  int64         \n",
      " 11  p_days         41188 non-null  int64         \n",
      " 12  p_outcome      41188 non-null  object        \n",
      " 13  y              41088 non-null  object        \n",
      " 14  duration_mins  41188 non-null  float64       \n",
      " 15  date           41188 non-null  datetime64[ns]\n",
      " 16  yrmth          41188 non-null  object        \n",
      "dtypes: datetime64[ns](1), float64(2), int64(4), object(10)\n",
      "memory usage: 5.7+ MB\n"
     ]
    }
   ],
   "source": [
    "# show data summary in a print format\n",
    "cmpn.info()"
   ]
  },
  {
   "cell_type": "code",
   "execution_count": 26,
   "metadata": {},
   "outputs": [
    {
     "data": {
      "text/html": [
       "<div>\n",
       "<style scoped>\n",
       "    .dataframe tbody tr th:only-of-type {\n",
       "        vertical-align: middle;\n",
       "    }\n",
       "\n",
       "    .dataframe tbody tr th {\n",
       "        vertical-align: top;\n",
       "    }\n",
       "\n",
       "    .dataframe thead th {\n",
       "        text-align: right;\n",
       "    }\n",
       "</style>\n",
       "<table border=\"1\" class=\"dataframe\">\n",
       "  <thead>\n",
       "    <tr style=\"text-align: right;\">\n",
       "      <th></th>\n",
       "      <th>cust_id</th>\n",
       "      <th>age</th>\n",
       "      <th>job</th>\n",
       "      <th>marital</th>\n",
       "      <th>education</th>\n",
       "      <th>default</th>\n",
       "      <th>mortgage</th>\n",
       "      <th>loan</th>\n",
       "      <th>contact_type</th>\n",
       "      <th>duration</th>\n",
       "      <th>contact_num</th>\n",
       "      <th>p_days</th>\n",
       "      <th>p_outcome</th>\n",
       "      <th>y</th>\n",
       "      <th>duration_mins</th>\n",
       "      <th>date</th>\n",
       "      <th>yrmth</th>\n",
       "    </tr>\n",
       "  </thead>\n",
       "  <tbody>\n",
       "    <tr>\n",
       "      <th>0</th>\n",
       "      <td>False</td>\n",
       "      <td>False</td>\n",
       "      <td>False</td>\n",
       "      <td>False</td>\n",
       "      <td>False</td>\n",
       "      <td>False</td>\n",
       "      <td>False</td>\n",
       "      <td>False</td>\n",
       "      <td>False</td>\n",
       "      <td>False</td>\n",
       "      <td>False</td>\n",
       "      <td>False</td>\n",
       "      <td>False</td>\n",
       "      <td>False</td>\n",
       "      <td>False</td>\n",
       "      <td>False</td>\n",
       "      <td>False</td>\n",
       "    </tr>\n",
       "    <tr>\n",
       "      <th>1</th>\n",
       "      <td>False</td>\n",
       "      <td>False</td>\n",
       "      <td>False</td>\n",
       "      <td>False</td>\n",
       "      <td>False</td>\n",
       "      <td>False</td>\n",
       "      <td>False</td>\n",
       "      <td>False</td>\n",
       "      <td>False</td>\n",
       "      <td>False</td>\n",
       "      <td>False</td>\n",
       "      <td>False</td>\n",
       "      <td>False</td>\n",
       "      <td>False</td>\n",
       "      <td>False</td>\n",
       "      <td>False</td>\n",
       "      <td>False</td>\n",
       "    </tr>\n",
       "    <tr>\n",
       "      <th>2</th>\n",
       "      <td>False</td>\n",
       "      <td>False</td>\n",
       "      <td>False</td>\n",
       "      <td>False</td>\n",
       "      <td>False</td>\n",
       "      <td>False</td>\n",
       "      <td>False</td>\n",
       "      <td>False</td>\n",
       "      <td>False</td>\n",
       "      <td>False</td>\n",
       "      <td>False</td>\n",
       "      <td>False</td>\n",
       "      <td>False</td>\n",
       "      <td>False</td>\n",
       "      <td>False</td>\n",
       "      <td>False</td>\n",
       "      <td>False</td>\n",
       "    </tr>\n",
       "    <tr>\n",
       "      <th>3</th>\n",
       "      <td>False</td>\n",
       "      <td>False</td>\n",
       "      <td>False</td>\n",
       "      <td>False</td>\n",
       "      <td>False</td>\n",
       "      <td>False</td>\n",
       "      <td>False</td>\n",
       "      <td>False</td>\n",
       "      <td>False</td>\n",
       "      <td>False</td>\n",
       "      <td>False</td>\n",
       "      <td>False</td>\n",
       "      <td>False</td>\n",
       "      <td>False</td>\n",
       "      <td>False</td>\n",
       "      <td>False</td>\n",
       "      <td>False</td>\n",
       "    </tr>\n",
       "    <tr>\n",
       "      <th>4</th>\n",
       "      <td>False</td>\n",
       "      <td>False</td>\n",
       "      <td>False</td>\n",
       "      <td>False</td>\n",
       "      <td>False</td>\n",
       "      <td>False</td>\n",
       "      <td>False</td>\n",
       "      <td>False</td>\n",
       "      <td>False</td>\n",
       "      <td>False</td>\n",
       "      <td>False</td>\n",
       "      <td>False</td>\n",
       "      <td>False</td>\n",
       "      <td>False</td>\n",
       "      <td>False</td>\n",
       "      <td>False</td>\n",
       "      <td>False</td>\n",
       "    </tr>\n",
       "  </tbody>\n",
       "</table>\n",
       "</div>"
      ],
      "text/plain": [
       "   cust_id    age    job  marital  education  default  mortgage   loan  \\\n",
       "0    False  False  False    False      False    False     False  False   \n",
       "1    False  False  False    False      False    False     False  False   \n",
       "2    False  False  False    False      False    False     False  False   \n",
       "3    False  False  False    False      False    False     False  False   \n",
       "4    False  False  False    False      False    False     False  False   \n",
       "\n",
       "   contact_type  duration  contact_num  p_days  p_outcome      y  \\\n",
       "0         False     False        False   False      False  False   \n",
       "1         False     False        False   False      False  False   \n",
       "2         False     False        False   False      False  False   \n",
       "3         False     False        False   False      False  False   \n",
       "4         False     False        False   False      False  False   \n",
       "\n",
       "   duration_mins   date  yrmth  \n",
       "0          False  False  False  \n",
       "1          False  False  False  \n",
       "2          False  False  False  \n",
       "3          False  False  False  \n",
       "4          False  False  False  "
      ]
     },
     "execution_count": 26,
     "metadata": {},
     "output_type": "execute_result"
    }
   ],
   "source": [
    "# Check missing for every element, return True if missing \n",
    "cmpn.isnull().head()"
   ]
  },
  {
   "cell_type": "code",
   "execution_count": 27,
   "metadata": {},
   "outputs": [
    {
     "data": {
      "text/plain": [
       "(41188, 17)"
      ]
     },
     "execution_count": 27,
     "metadata": {},
     "output_type": "execute_result"
    }
   ],
   "source": [
    "cmpn.isnull().shape"
   ]
  },
  {
   "cell_type": "code",
   "execution_count": 28,
   "metadata": {},
   "outputs": [
    {
     "data": {
      "text/plain": [
       "True"
      ]
     },
     "execution_count": 28,
     "metadata": {},
     "output_type": "execute_result"
    }
   ],
   "source": [
    "# Check if the entire dataset has any NA values\n",
    "cmpn.isnull().any(axis=None)"
   ]
  },
  {
   "cell_type": "code",
   "execution_count": 29,
   "metadata": {},
   "outputs": [
    {
     "data": {
      "text/plain": [
       "cust_id          False\n",
       "age               True\n",
       "job              False\n",
       "marital          False\n",
       "education         True\n",
       "default          False\n",
       "mortgage         False\n",
       "loan             False\n",
       "contact_type     False\n",
       "duration         False\n",
       "contact_num      False\n",
       "p_days           False\n",
       "p_outcome        False\n",
       "y                 True\n",
       "duration_mins    False\n",
       "date             False\n",
       "yrmth            False\n",
       "dtype: bool"
      ]
     },
     "execution_count": 29,
     "metadata": {},
     "output_type": "execute_result"
    }
   ],
   "source": [
    "# Check missing for each column\n",
    "cmpn.isnull().any(axis=0)"
   ]
  },
  {
   "cell_type": "code",
   "execution_count": 30,
   "metadata": {},
   "outputs": [
    {
     "data": {
      "text/plain": [
       "0    False\n",
       "1    False\n",
       "2    False\n",
       "3    False\n",
       "4    False\n",
       "dtype: bool"
      ]
     },
     "execution_count": 30,
     "metadata": {},
     "output_type": "execute_result"
    }
   ],
   "source": [
    "# Check missing for each observation\n",
    "cmpn.isnull().any(axis=1).head()"
   ]
  },
  {
   "cell_type": "code",
   "execution_count": 31,
   "metadata": {},
   "outputs": [
    {
     "data": {
      "text/plain": [
       "cust_id             0\n",
       "age               500\n",
       "job                 0\n",
       "marital             0\n",
       "education        1731\n",
       "default             0\n",
       "mortgage            0\n",
       "loan                0\n",
       "contact_type        0\n",
       "duration            0\n",
       "contact_num         0\n",
       "p_days              0\n",
       "p_outcome           0\n",
       "y                 100\n",
       "duration_mins       0\n",
       "date                0\n",
       "yrmth               0\n",
       "dtype: int64"
      ]
     },
     "execution_count": 31,
     "metadata": {},
     "output_type": "execute_result"
    }
   ],
   "source": [
    "# Check number of missing values for each column\n",
    "cmpn.isnull().sum(axis=0)"
   ]
  },
  {
   "cell_type": "markdown",
   "metadata": {},
   "source": [
    "#### Detect missing values for categorical variables"
   ]
  },
  {
   "cell_type": "code",
   "execution_count": 32,
   "metadata": {
    "scrolled": true
   },
   "outputs": [
    {
     "name": "stdout",
     "output_type": "stream",
     "text": [
      "0 - job:\n",
      "admin.           10422\n",
      "blue-collar       9254\n",
      "technician        6743\n",
      "services          3969\n",
      "management        2924\n",
      "retired           1720\n",
      "entrepreneur      1456\n",
      "self-employed     1421\n",
      "housemaid         1060\n",
      "unemployed        1014\n",
      "student            875\n",
      "                   330\n",
      "Name: job, dtype: int64\n",
      "-------------------------------------------------------\n",
      "\n",
      "1 - marital:\n",
      "married     24928\n",
      "single      11568\n",
      "divorced     4612\n",
      "               80\n",
      "Name: marital, dtype: int64\n",
      "-------------------------------------------------------\n",
      "\n",
      "2 - education:\n",
      "university.degree      12168\n",
      "high.school             9515\n",
      "basic.9y                6045\n",
      "professional.course     5243\n",
      "basic.4y                4176\n",
      "basic.6y                2292\n",
      "NaN                     1731\n",
      "illiterate                18\n",
      "Name: education, dtype: int64\n",
      "-------------------------------------------------------\n",
      "\n",
      "3 - default:\n",
      "no     32588\n",
      "        8597\n",
      "yes        3\n",
      "Name: default, dtype: int64\n",
      "-------------------------------------------------------\n",
      "\n",
      "4 - mortgage:\n",
      "yes    21576\n",
      "no     18622\n",
      "         990\n",
      "Name: mortgage, dtype: int64\n",
      "-------------------------------------------------------\n",
      "\n",
      "5 - loan:\n",
      "no     33950\n",
      "yes     6248\n",
      "         990\n",
      "Name: loan, dtype: int64\n",
      "-------------------------------------------------------\n",
      "\n",
      "6 - contact_type:\n",
      "cellular     26144\n",
      "telephone    15044\n",
      "Name: contact_type, dtype: int64\n",
      "-------------------------------------------------------\n",
      "\n",
      "7 - p_outcome:\n",
      "nonexistent    35563\n",
      "failure         4252\n",
      "success         1373\n",
      "Name: p_outcome, dtype: int64\n",
      "-------------------------------------------------------\n",
      "\n",
      "8 - y:\n",
      "no     36459\n",
      "yes     4629\n",
      "NaN      100\n",
      "Name: y, dtype: int64\n",
      "-------------------------------------------------------\n",
      "\n"
     ]
    }
   ],
   "source": [
    "for i, var in enumerate(var_cat):\n",
    "    print(str(i) + \" - \" + str(var) + \":\")\n",
    "    print(cmpn[var].value_counts(dropna=False))\n",
    "    print('-------------------------------------------------------')\n",
    "    print()"
   ]
  },
  {
   "cell_type": "code",
   "execution_count": 33,
   "metadata": {},
   "outputs": [
    {
     "data": {
      "text/plain": [
       "['cust_id', 'date', 'yrmth']"
      ]
     },
     "execution_count": 33,
     "metadata": {},
     "output_type": "execute_result"
    }
   ],
   "source": [
    "var_key"
   ]
  },
  {
   "cell_type": "code",
   "execution_count": 34,
   "metadata": {},
   "outputs": [
    {
     "data": {
      "text/plain": [
       "200805    7763\n",
       "200807    6685\n",
       "200905    5794\n",
       "200808    5175\n",
       "200806    4374\n",
       "200811    3616\n",
       "200904    2458\n",
       "200908     770\n",
       "200906     715\n",
       "200910     447\n",
       "200911     357\n",
       "201007     311\n",
       "201009     303\n",
       "200903     282\n",
       "200909     267\n",
       "201003     264\n",
       "201008     233\n",
       "201006     229\n",
       "201005     212\n",
       "201010     204\n",
       "200907     178\n",
       "201004     174\n",
       "200912     172\n",
       "201011     128\n",
       "200810      67\n",
       "200812      10\n",
       "Name: yrmth, dtype: int64"
      ]
     },
     "execution_count": 34,
     "metadata": {},
     "output_type": "execute_result"
    }
   ],
   "source": [
    "cmpn.yrmth.value_counts(dropna=False)"
   ]
  },
  {
   "cell_type": "markdown",
   "metadata": {},
   "source": [
    "#### Set empty strings \"\" as NA values"
   ]
  },
  {
   "cell_type": "code",
   "execution_count": 35,
   "metadata": {},
   "outputs": [],
   "source": [
    "for var in var_cat:\n",
    "    cmpn.loc[cmpn[var]=='', var] = np.nan"
   ]
  },
  {
   "cell_type": "markdown",
   "metadata": {},
   "source": [
    "#### Missing summary"
   ]
  },
  {
   "cell_type": "code",
   "execution_count": 36,
   "metadata": {},
   "outputs": [
    {
     "data": {
      "text/html": [
       "<div>\n",
       "<style scoped>\n",
       "    .dataframe tbody tr th:only-of-type {\n",
       "        vertical-align: middle;\n",
       "    }\n",
       "\n",
       "    .dataframe tbody tr th {\n",
       "        vertical-align: top;\n",
       "    }\n",
       "\n",
       "    .dataframe thead th {\n",
       "        text-align: right;\n",
       "    }\n",
       "</style>\n",
       "<table border=\"1\" class=\"dataframe\">\n",
       "  <thead>\n",
       "    <tr style=\"text-align: right;\">\n",
       "      <th></th>\n",
       "      <th>FeatureType</th>\n",
       "      <th>IsMissing</th>\n",
       "      <th>MissingCnt</th>\n",
       "    </tr>\n",
       "  </thead>\n",
       "  <tbody>\n",
       "    <tr>\n",
       "      <th>cust_id</th>\n",
       "      <td>int64</td>\n",
       "      <td>False</td>\n",
       "      <td>0</td>\n",
       "    </tr>\n",
       "    <tr>\n",
       "      <th>age</th>\n",
       "      <td>float64</td>\n",
       "      <td>True</td>\n",
       "      <td>500</td>\n",
       "    </tr>\n",
       "    <tr>\n",
       "      <th>job</th>\n",
       "      <td>object</td>\n",
       "      <td>True</td>\n",
       "      <td>330</td>\n",
       "    </tr>\n",
       "    <tr>\n",
       "      <th>marital</th>\n",
       "      <td>object</td>\n",
       "      <td>True</td>\n",
       "      <td>80</td>\n",
       "    </tr>\n",
       "    <tr>\n",
       "      <th>education</th>\n",
       "      <td>object</td>\n",
       "      <td>True</td>\n",
       "      <td>1731</td>\n",
       "    </tr>\n",
       "    <tr>\n",
       "      <th>default</th>\n",
       "      <td>object</td>\n",
       "      <td>True</td>\n",
       "      <td>8597</td>\n",
       "    </tr>\n",
       "    <tr>\n",
       "      <th>mortgage</th>\n",
       "      <td>object</td>\n",
       "      <td>True</td>\n",
       "      <td>990</td>\n",
       "    </tr>\n",
       "    <tr>\n",
       "      <th>loan</th>\n",
       "      <td>object</td>\n",
       "      <td>True</td>\n",
       "      <td>990</td>\n",
       "    </tr>\n",
       "    <tr>\n",
       "      <th>contact_type</th>\n",
       "      <td>object</td>\n",
       "      <td>False</td>\n",
       "      <td>0</td>\n",
       "    </tr>\n",
       "    <tr>\n",
       "      <th>duration</th>\n",
       "      <td>int64</td>\n",
       "      <td>False</td>\n",
       "      <td>0</td>\n",
       "    </tr>\n",
       "    <tr>\n",
       "      <th>contact_num</th>\n",
       "      <td>int64</td>\n",
       "      <td>False</td>\n",
       "      <td>0</td>\n",
       "    </tr>\n",
       "    <tr>\n",
       "      <th>p_days</th>\n",
       "      <td>int64</td>\n",
       "      <td>False</td>\n",
       "      <td>0</td>\n",
       "    </tr>\n",
       "    <tr>\n",
       "      <th>p_outcome</th>\n",
       "      <td>object</td>\n",
       "      <td>False</td>\n",
       "      <td>0</td>\n",
       "    </tr>\n",
       "    <tr>\n",
       "      <th>y</th>\n",
       "      <td>object</td>\n",
       "      <td>True</td>\n",
       "      <td>100</td>\n",
       "    </tr>\n",
       "    <tr>\n",
       "      <th>duration_mins</th>\n",
       "      <td>float64</td>\n",
       "      <td>False</td>\n",
       "      <td>0</td>\n",
       "    </tr>\n",
       "    <tr>\n",
       "      <th>date</th>\n",
       "      <td>datetime64[ns]</td>\n",
       "      <td>False</td>\n",
       "      <td>0</td>\n",
       "    </tr>\n",
       "    <tr>\n",
       "      <th>yrmth</th>\n",
       "      <td>object</td>\n",
       "      <td>False</td>\n",
       "      <td>0</td>\n",
       "    </tr>\n",
       "  </tbody>\n",
       "</table>\n",
       "</div>"
      ],
      "text/plain": [
       "                  FeatureType  IsMissing  MissingCnt\n",
       "cust_id                 int64      False           0\n",
       "age                   float64       True         500\n",
       "job                    object       True         330\n",
       "marital                object       True          80\n",
       "education              object       True        1731\n",
       "default                object       True        8597\n",
       "mortgage               object       True         990\n",
       "loan                   object       True         990\n",
       "contact_type           object      False           0\n",
       "duration                int64      False           0\n",
       "contact_num             int64      False           0\n",
       "p_days                  int64      False           0\n",
       "p_outcome              object      False           0\n",
       "y                      object       True         100\n",
       "duration_mins         float64      False           0\n",
       "date           datetime64[ns]      False           0\n",
       "yrmth                  object      False           0"
      ]
     },
     "execution_count": 36,
     "metadata": {},
     "output_type": "execute_result"
    }
   ],
   "source": [
    "MissingSummary = pd.concat([cmpn.dtypes, cmpn.isnull().any(axis=0), cmpn.isnull().sum(axis=0)], \n",
    "                           axis=1)\n",
    "MissingSummary.columns = ['FeatureType','IsMissing', 'MissingCnt']\n",
    "MissingSummary"
   ]
  },
  {
   "cell_type": "markdown",
   "metadata": {},
   "source": [
    "#### c How to deal with Missing Data"
   ]
  },
  {
   "cell_type": "markdown",
   "metadata": {},
   "source": [
    "#### option 1: get rid of the rows if any feature is missing"
   ]
  },
  {
   "cell_type": "code",
   "execution_count": 37,
   "metadata": {},
   "outputs": [
    {
     "data": {
      "text/plain": [
       "(41188, 17)"
      ]
     },
     "execution_count": 37,
     "metadata": {},
     "output_type": "execute_result"
    }
   ],
   "source": [
    "cmpn.shape"
   ]
  },
  {
   "cell_type": "code",
   "execution_count": 38,
   "metadata": {},
   "outputs": [
    {
     "data": {
      "text/plain": [
       "(41088, 17)"
      ]
     },
     "execution_count": 38,
     "metadata": {},
     "output_type": "execute_result"
    }
   ],
   "source": [
    "# Get rid of customer record if the corresponding y is missing.\n",
    "cmpn.dropna(subset=['y']).shape"
   ]
  },
  {
   "cell_type": "code",
   "execution_count": 39,
   "metadata": {},
   "outputs": [],
   "source": [
    "cmpn = cmpn.dropna(subset=['y'])"
   ]
  },
  {
   "cell_type": "code",
   "execution_count": 40,
   "metadata": {},
   "outputs": [
    {
     "data": {
      "text/html": [
       "<div>\n",
       "<style scoped>\n",
       "    .dataframe tbody tr th:only-of-type {\n",
       "        vertical-align: middle;\n",
       "    }\n",
       "\n",
       "    .dataframe tbody tr th {\n",
       "        vertical-align: top;\n",
       "    }\n",
       "\n",
       "    .dataframe thead th {\n",
       "        text-align: right;\n",
       "    }\n",
       "</style>\n",
       "<table border=\"1\" class=\"dataframe\">\n",
       "  <thead>\n",
       "    <tr style=\"text-align: right;\">\n",
       "      <th></th>\n",
       "      <th>cust_id</th>\n",
       "      <th>age</th>\n",
       "      <th>job</th>\n",
       "      <th>marital</th>\n",
       "      <th>education</th>\n",
       "      <th>default</th>\n",
       "      <th>mortgage</th>\n",
       "      <th>loan</th>\n",
       "      <th>contact_type</th>\n",
       "      <th>duration</th>\n",
       "      <th>contact_num</th>\n",
       "      <th>p_days</th>\n",
       "      <th>p_outcome</th>\n",
       "      <th>y</th>\n",
       "      <th>duration_mins</th>\n",
       "      <th>date</th>\n",
       "      <th>yrmth</th>\n",
       "    </tr>\n",
       "  </thead>\n",
       "  <tbody>\n",
       "    <tr>\n",
       "      <th>41183</th>\n",
       "      <td>56044</td>\n",
       "      <td>32.0</td>\n",
       "      <td>blue-collar</td>\n",
       "      <td>single</td>\n",
       "      <td>basic.9y</td>\n",
       "      <td>no</td>\n",
       "      <td>yes</td>\n",
       "      <td>no</td>\n",
       "      <td>cellular</td>\n",
       "      <td>282</td>\n",
       "      <td>1</td>\n",
       "      <td>999</td>\n",
       "      <td>nonexistent</td>\n",
       "      <td>yes</td>\n",
       "      <td>4.700000</td>\n",
       "      <td>2009-08-30</td>\n",
       "      <td>200908</td>\n",
       "    </tr>\n",
       "    <tr>\n",
       "      <th>41184</th>\n",
       "      <td>24556</td>\n",
       "      <td>42.0</td>\n",
       "      <td>blue-collar</td>\n",
       "      <td>married</td>\n",
       "      <td>high.school</td>\n",
       "      <td>no</td>\n",
       "      <td>no</td>\n",
       "      <td>yes</td>\n",
       "      <td>telephone</td>\n",
       "      <td>1297</td>\n",
       "      <td>3</td>\n",
       "      <td>999</td>\n",
       "      <td>nonexistent</td>\n",
       "      <td>yes</td>\n",
       "      <td>21.616667</td>\n",
       "      <td>2008-05-11</td>\n",
       "      <td>200805</td>\n",
       "    </tr>\n",
       "    <tr>\n",
       "      <th>41185</th>\n",
       "      <td>15097</td>\n",
       "      <td>54.0</td>\n",
       "      <td>technician</td>\n",
       "      <td>married</td>\n",
       "      <td>high.school</td>\n",
       "      <td>no</td>\n",
       "      <td>yes</td>\n",
       "      <td>no</td>\n",
       "      <td>cellular</td>\n",
       "      <td>178</td>\n",
       "      <td>5</td>\n",
       "      <td>999</td>\n",
       "      <td>nonexistent</td>\n",
       "      <td>no</td>\n",
       "      <td>2.966667</td>\n",
       "      <td>2009-04-26</td>\n",
       "      <td>200904</td>\n",
       "    </tr>\n",
       "    <tr>\n",
       "      <th>41186</th>\n",
       "      <td>2365</td>\n",
       "      <td>37.0</td>\n",
       "      <td>technician</td>\n",
       "      <td>married</td>\n",
       "      <td>university.degree</td>\n",
       "      <td>no</td>\n",
       "      <td>no</td>\n",
       "      <td>no</td>\n",
       "      <td>cellular</td>\n",
       "      <td>219</td>\n",
       "      <td>2</td>\n",
       "      <td>999</td>\n",
       "      <td>nonexistent</td>\n",
       "      <td>no</td>\n",
       "      <td>3.650000</td>\n",
       "      <td>2009-05-14</td>\n",
       "      <td>200905</td>\n",
       "    </tr>\n",
       "    <tr>\n",
       "      <th>41187</th>\n",
       "      <td>23349</td>\n",
       "      <td>40.0</td>\n",
       "      <td>blue-collar</td>\n",
       "      <td>married</td>\n",
       "      <td>basic.6y</td>\n",
       "      <td>NaN</td>\n",
       "      <td>yes</td>\n",
       "      <td>no</td>\n",
       "      <td>telephone</td>\n",
       "      <td>534</td>\n",
       "      <td>1</td>\n",
       "      <td>999</td>\n",
       "      <td>nonexistent</td>\n",
       "      <td>no</td>\n",
       "      <td>8.900000</td>\n",
       "      <td>2009-04-20</td>\n",
       "      <td>200904</td>\n",
       "    </tr>\n",
       "  </tbody>\n",
       "</table>\n",
       "</div>"
      ],
      "text/plain": [
       "       cust_id   age          job  marital          education default  \\\n",
       "41183    56044  32.0  blue-collar   single           basic.9y      no   \n",
       "41184    24556  42.0  blue-collar  married        high.school      no   \n",
       "41185    15097  54.0   technician  married        high.school      no   \n",
       "41186     2365  37.0   technician  married  university.degree      no   \n",
       "41187    23349  40.0  blue-collar  married           basic.6y     NaN   \n",
       "\n",
       "      mortgage loan contact_type  duration  contact_num  p_days    p_outcome  \\\n",
       "41183      yes   no     cellular       282            1     999  nonexistent   \n",
       "41184       no  yes    telephone      1297            3     999  nonexistent   \n",
       "41185      yes   no     cellular       178            5     999  nonexistent   \n",
       "41186       no   no     cellular       219            2     999  nonexistent   \n",
       "41187      yes   no    telephone       534            1     999  nonexistent   \n",
       "\n",
       "         y  duration_mins       date   yrmth  \n",
       "41183  yes       4.700000 2009-08-30  200908  \n",
       "41184  yes      21.616667 2008-05-11  200805  \n",
       "41185   no       2.966667 2009-04-26  200904  \n",
       "41186   no       3.650000 2009-05-14  200905  \n",
       "41187   no       8.900000 2009-04-20  200904  "
      ]
     },
     "execution_count": 40,
     "metadata": {},
     "output_type": "execute_result"
    }
   ],
   "source": [
    "cmpn.tail()"
   ]
  },
  {
   "cell_type": "code",
   "execution_count": 41,
   "metadata": {},
   "outputs": [],
   "source": [
    "# reset index\n",
    "cmpn = cmpn.reset_index(drop=True)"
   ]
  },
  {
   "cell_type": "code",
   "execution_count": 42,
   "metadata": {},
   "outputs": [
    {
     "data": {
      "text/html": [
       "<div>\n",
       "<style scoped>\n",
       "    .dataframe tbody tr th:only-of-type {\n",
       "        vertical-align: middle;\n",
       "    }\n",
       "\n",
       "    .dataframe tbody tr th {\n",
       "        vertical-align: top;\n",
       "    }\n",
       "\n",
       "    .dataframe thead th {\n",
       "        text-align: right;\n",
       "    }\n",
       "</style>\n",
       "<table border=\"1\" class=\"dataframe\">\n",
       "  <thead>\n",
       "    <tr style=\"text-align: right;\">\n",
       "      <th></th>\n",
       "      <th>cust_id</th>\n",
       "      <th>age</th>\n",
       "      <th>job</th>\n",
       "      <th>marital</th>\n",
       "      <th>education</th>\n",
       "      <th>default</th>\n",
       "      <th>mortgage</th>\n",
       "      <th>loan</th>\n",
       "      <th>contact_type</th>\n",
       "      <th>duration</th>\n",
       "      <th>contact_num</th>\n",
       "      <th>p_days</th>\n",
       "      <th>p_outcome</th>\n",
       "      <th>y</th>\n",
       "      <th>duration_mins</th>\n",
       "      <th>date</th>\n",
       "      <th>yrmth</th>\n",
       "    </tr>\n",
       "  </thead>\n",
       "  <tbody>\n",
       "    <tr>\n",
       "      <th>41083</th>\n",
       "      <td>56044</td>\n",
       "      <td>32.0</td>\n",
       "      <td>blue-collar</td>\n",
       "      <td>single</td>\n",
       "      <td>basic.9y</td>\n",
       "      <td>no</td>\n",
       "      <td>yes</td>\n",
       "      <td>no</td>\n",
       "      <td>cellular</td>\n",
       "      <td>282</td>\n",
       "      <td>1</td>\n",
       "      <td>999</td>\n",
       "      <td>nonexistent</td>\n",
       "      <td>yes</td>\n",
       "      <td>4.700000</td>\n",
       "      <td>2009-08-30</td>\n",
       "      <td>200908</td>\n",
       "    </tr>\n",
       "    <tr>\n",
       "      <th>41084</th>\n",
       "      <td>24556</td>\n",
       "      <td>42.0</td>\n",
       "      <td>blue-collar</td>\n",
       "      <td>married</td>\n",
       "      <td>high.school</td>\n",
       "      <td>no</td>\n",
       "      <td>no</td>\n",
       "      <td>yes</td>\n",
       "      <td>telephone</td>\n",
       "      <td>1297</td>\n",
       "      <td>3</td>\n",
       "      <td>999</td>\n",
       "      <td>nonexistent</td>\n",
       "      <td>yes</td>\n",
       "      <td>21.616667</td>\n",
       "      <td>2008-05-11</td>\n",
       "      <td>200805</td>\n",
       "    </tr>\n",
       "    <tr>\n",
       "      <th>41085</th>\n",
       "      <td>15097</td>\n",
       "      <td>54.0</td>\n",
       "      <td>technician</td>\n",
       "      <td>married</td>\n",
       "      <td>high.school</td>\n",
       "      <td>no</td>\n",
       "      <td>yes</td>\n",
       "      <td>no</td>\n",
       "      <td>cellular</td>\n",
       "      <td>178</td>\n",
       "      <td>5</td>\n",
       "      <td>999</td>\n",
       "      <td>nonexistent</td>\n",
       "      <td>no</td>\n",
       "      <td>2.966667</td>\n",
       "      <td>2009-04-26</td>\n",
       "      <td>200904</td>\n",
       "    </tr>\n",
       "    <tr>\n",
       "      <th>41086</th>\n",
       "      <td>2365</td>\n",
       "      <td>37.0</td>\n",
       "      <td>technician</td>\n",
       "      <td>married</td>\n",
       "      <td>university.degree</td>\n",
       "      <td>no</td>\n",
       "      <td>no</td>\n",
       "      <td>no</td>\n",
       "      <td>cellular</td>\n",
       "      <td>219</td>\n",
       "      <td>2</td>\n",
       "      <td>999</td>\n",
       "      <td>nonexistent</td>\n",
       "      <td>no</td>\n",
       "      <td>3.650000</td>\n",
       "      <td>2009-05-14</td>\n",
       "      <td>200905</td>\n",
       "    </tr>\n",
       "    <tr>\n",
       "      <th>41087</th>\n",
       "      <td>23349</td>\n",
       "      <td>40.0</td>\n",
       "      <td>blue-collar</td>\n",
       "      <td>married</td>\n",
       "      <td>basic.6y</td>\n",
       "      <td>NaN</td>\n",
       "      <td>yes</td>\n",
       "      <td>no</td>\n",
       "      <td>telephone</td>\n",
       "      <td>534</td>\n",
       "      <td>1</td>\n",
       "      <td>999</td>\n",
       "      <td>nonexistent</td>\n",
       "      <td>no</td>\n",
       "      <td>8.900000</td>\n",
       "      <td>2009-04-20</td>\n",
       "      <td>200904</td>\n",
       "    </tr>\n",
       "  </tbody>\n",
       "</table>\n",
       "</div>"
      ],
      "text/plain": [
       "       cust_id   age          job  marital          education default  \\\n",
       "41083    56044  32.0  blue-collar   single           basic.9y      no   \n",
       "41084    24556  42.0  blue-collar  married        high.school      no   \n",
       "41085    15097  54.0   technician  married        high.school      no   \n",
       "41086     2365  37.0   technician  married  university.degree      no   \n",
       "41087    23349  40.0  blue-collar  married           basic.6y     NaN   \n",
       "\n",
       "      mortgage loan contact_type  duration  contact_num  p_days    p_outcome  \\\n",
       "41083      yes   no     cellular       282            1     999  nonexistent   \n",
       "41084       no  yes    telephone      1297            3     999  nonexistent   \n",
       "41085      yes   no     cellular       178            5     999  nonexistent   \n",
       "41086       no   no     cellular       219            2     999  nonexistent   \n",
       "41087      yes   no    telephone       534            1     999  nonexistent   \n",
       "\n",
       "         y  duration_mins       date   yrmth  \n",
       "41083  yes       4.700000 2009-08-30  200908  \n",
       "41084  yes      21.616667 2008-05-11  200805  \n",
       "41085   no       2.966667 2009-04-26  200904  \n",
       "41086   no       3.650000 2009-05-14  200905  \n",
       "41087   no       8.900000 2009-04-20  200904  "
      ]
     },
     "execution_count": 42,
     "metadata": {},
     "output_type": "execute_result"
    }
   ],
   "source": [
    "cmpn.tail()"
   ]
  },
  {
   "cell_type": "markdown",
   "metadata": {},
   "source": [
    "#### option 2: Get rid of the whole attribute."
   ]
  },
  {
   "cell_type": "code",
   "execution_count": 43,
   "metadata": {},
   "outputs": [
    {
     "data": {
      "text/plain": [
       "(41088, 17)"
      ]
     },
     "execution_count": 43,
     "metadata": {},
     "output_type": "execute_result"
    }
   ],
   "source": [
    "cmpn.shape"
   ]
  },
  {
   "cell_type": "code",
   "execution_count": 44,
   "metadata": {},
   "outputs": [
    {
     "data": {
      "text/plain": [
       "(41088, 16)"
      ]
     },
     "execution_count": 44,
     "metadata": {},
     "output_type": "execute_result"
    }
   ],
   "source": [
    "cmpn.drop('default', axis=1).shape"
   ]
  },
  {
   "cell_type": "code",
   "execution_count": 45,
   "metadata": {},
   "outputs": [],
   "source": [
    "# Get rid of attributes with more than 20% missing value"
   ]
  },
  {
   "cell_type": "code",
   "execution_count": 46,
   "metadata": {},
   "outputs": [
    {
     "data": {
      "text/html": [
       "<div>\n",
       "<style scoped>\n",
       "    .dataframe tbody tr th:only-of-type {\n",
       "        vertical-align: middle;\n",
       "    }\n",
       "\n",
       "    .dataframe tbody tr th {\n",
       "        vertical-align: top;\n",
       "    }\n",
       "\n",
       "    .dataframe thead th {\n",
       "        text-align: right;\n",
       "    }\n",
       "</style>\n",
       "<table border=\"1\" class=\"dataframe\">\n",
       "  <thead>\n",
       "    <tr style=\"text-align: right;\">\n",
       "      <th></th>\n",
       "      <th>FeatureType</th>\n",
       "      <th>IsMissing</th>\n",
       "      <th>MissingCnt</th>\n",
       "    </tr>\n",
       "  </thead>\n",
       "  <tbody>\n",
       "    <tr>\n",
       "      <th>cust_id</th>\n",
       "      <td>int64</td>\n",
       "      <td>False</td>\n",
       "      <td>0</td>\n",
       "    </tr>\n",
       "    <tr>\n",
       "      <th>age</th>\n",
       "      <td>float64</td>\n",
       "      <td>True</td>\n",
       "      <td>500</td>\n",
       "    </tr>\n",
       "    <tr>\n",
       "      <th>job</th>\n",
       "      <td>object</td>\n",
       "      <td>True</td>\n",
       "      <td>330</td>\n",
       "    </tr>\n",
       "    <tr>\n",
       "      <th>marital</th>\n",
       "      <td>object</td>\n",
       "      <td>True</td>\n",
       "      <td>80</td>\n",
       "    </tr>\n",
       "    <tr>\n",
       "      <th>education</th>\n",
       "      <td>object</td>\n",
       "      <td>True</td>\n",
       "      <td>1731</td>\n",
       "    </tr>\n",
       "    <tr>\n",
       "      <th>default</th>\n",
       "      <td>object</td>\n",
       "      <td>True</td>\n",
       "      <td>8597</td>\n",
       "    </tr>\n",
       "    <tr>\n",
       "      <th>mortgage</th>\n",
       "      <td>object</td>\n",
       "      <td>True</td>\n",
       "      <td>990</td>\n",
       "    </tr>\n",
       "    <tr>\n",
       "      <th>loan</th>\n",
       "      <td>object</td>\n",
       "      <td>True</td>\n",
       "      <td>990</td>\n",
       "    </tr>\n",
       "    <tr>\n",
       "      <th>contact_type</th>\n",
       "      <td>object</td>\n",
       "      <td>False</td>\n",
       "      <td>0</td>\n",
       "    </tr>\n",
       "    <tr>\n",
       "      <th>duration</th>\n",
       "      <td>int64</td>\n",
       "      <td>False</td>\n",
       "      <td>0</td>\n",
       "    </tr>\n",
       "    <tr>\n",
       "      <th>contact_num</th>\n",
       "      <td>int64</td>\n",
       "      <td>False</td>\n",
       "      <td>0</td>\n",
       "    </tr>\n",
       "    <tr>\n",
       "      <th>p_days</th>\n",
       "      <td>int64</td>\n",
       "      <td>False</td>\n",
       "      <td>0</td>\n",
       "    </tr>\n",
       "    <tr>\n",
       "      <th>p_outcome</th>\n",
       "      <td>object</td>\n",
       "      <td>False</td>\n",
       "      <td>0</td>\n",
       "    </tr>\n",
       "    <tr>\n",
       "      <th>y</th>\n",
       "      <td>object</td>\n",
       "      <td>True</td>\n",
       "      <td>100</td>\n",
       "    </tr>\n",
       "    <tr>\n",
       "      <th>duration_mins</th>\n",
       "      <td>float64</td>\n",
       "      <td>False</td>\n",
       "      <td>0</td>\n",
       "    </tr>\n",
       "    <tr>\n",
       "      <th>date</th>\n",
       "      <td>datetime64[ns]</td>\n",
       "      <td>False</td>\n",
       "      <td>0</td>\n",
       "    </tr>\n",
       "    <tr>\n",
       "      <th>yrmth</th>\n",
       "      <td>object</td>\n",
       "      <td>False</td>\n",
       "      <td>0</td>\n",
       "    </tr>\n",
       "  </tbody>\n",
       "</table>\n",
       "</div>"
      ],
      "text/plain": [
       "                  FeatureType  IsMissing  MissingCnt\n",
       "cust_id                 int64      False           0\n",
       "age                   float64       True         500\n",
       "job                    object       True         330\n",
       "marital                object       True          80\n",
       "education              object       True        1731\n",
       "default                object       True        8597\n",
       "mortgage               object       True         990\n",
       "loan                   object       True         990\n",
       "contact_type           object      False           0\n",
       "duration                int64      False           0\n",
       "contact_num             int64      False           0\n",
       "p_days                  int64      False           0\n",
       "p_outcome              object      False           0\n",
       "y                      object       True         100\n",
       "duration_mins         float64      False           0\n",
       "date           datetime64[ns]      False           0\n",
       "yrmth                  object      False           0"
      ]
     },
     "execution_count": 46,
     "metadata": {},
     "output_type": "execute_result"
    }
   ],
   "source": [
    "MissingSummary"
   ]
  },
  {
   "cell_type": "code",
   "execution_count": 47,
   "metadata": {},
   "outputs": [
    {
     "data": {
      "text/plain": [
       "['default']"
      ]
     },
     "execution_count": 47,
     "metadata": {},
     "output_type": "execute_result"
    }
   ],
   "source": [
    "DropColumn = MissingSummary[(MissingSummary.MissingCnt/cmpn.shape[0]>0.2)].index.tolist()\n",
    "DropColumn"
   ]
  },
  {
   "cell_type": "code",
   "execution_count": 48,
   "metadata": {},
   "outputs": [],
   "source": [
    "cmpn = cmpn.drop(DropColumn, axis=1)"
   ]
  },
  {
   "cell_type": "code",
   "execution_count": 49,
   "metadata": {},
   "outputs": [
    {
     "data": {
      "text/plain": [
       "(41088, 16)"
      ]
     },
     "execution_count": 49,
     "metadata": {},
     "output_type": "execute_result"
    }
   ],
   "source": [
    "cmpn.shape"
   ]
  },
  {
   "cell_type": "markdown",
   "metadata": {},
   "source": [
    "#### option3: Missing value imputation.<br>\n",
    "Set the values to some value (zero, the mean, the median, etc.)."
   ]
  },
  {
   "cell_type": "code",
   "execution_count": 50,
   "metadata": {},
   "outputs": [],
   "source": [
    "try:\n",
    "    from sklearn.impute import SimpleImputer # Scikit-Learn 0.20+\n",
    "except ImportError:\n",
    "    from sklearn.preprocessing import Imputer as SimpleImputer"
   ]
  },
  {
   "cell_type": "code",
   "execution_count": 51,
   "metadata": {},
   "outputs": [],
   "source": [
    "# Create a SimpleImputer object with strategy = 'median'\n",
    "imputer = SimpleImputer(strategy=\"median\")"
   ]
  },
  {
   "cell_type": "code",
   "execution_count": 52,
   "metadata": {},
   "outputs": [
    {
     "data": {
      "text/plain": [
       "SimpleImputer(add_indicator=False, copy=True, fill_value=None,\n",
       "              missing_values=nan, strategy='median', verbose=0)"
      ]
     },
     "execution_count": 52,
     "metadata": {},
     "output_type": "execute_result"
    }
   ],
   "source": [
    "imputer"
   ]
  },
  {
   "cell_type": "code",
   "execution_count": 53,
   "metadata": {},
   "outputs": [
    {
     "data": {
      "text/plain": [
       "sklearn.impute._base.SimpleImputer"
      ]
     },
     "execution_count": 53,
     "metadata": {},
     "output_type": "execute_result"
    }
   ],
   "source": [
    "type(imputer)"
   ]
  },
  {
   "cell_type": "code",
   "execution_count": 54,
   "metadata": {},
   "outputs": [
    {
     "data": {
      "text/html": [
       "<div>\n",
       "<style scoped>\n",
       "    .dataframe tbody tr th:only-of-type {\n",
       "        vertical-align: middle;\n",
       "    }\n",
       "\n",
       "    .dataframe tbody tr th {\n",
       "        vertical-align: top;\n",
       "    }\n",
       "\n",
       "    .dataframe thead th {\n",
       "        text-align: right;\n",
       "    }\n",
       "</style>\n",
       "<table border=\"1\" class=\"dataframe\">\n",
       "  <thead>\n",
       "    <tr style=\"text-align: right;\">\n",
       "      <th></th>\n",
       "      <th>age</th>\n",
       "      <th>duration</th>\n",
       "      <th>contact_num</th>\n",
       "      <th>p_days</th>\n",
       "      <th>duration_mins</th>\n",
       "    </tr>\n",
       "  </thead>\n",
       "  <tbody>\n",
       "    <tr>\n",
       "      <th>44</th>\n",
       "      <td>NaN</td>\n",
       "      <td>165</td>\n",
       "      <td>4</td>\n",
       "      <td>999</td>\n",
       "      <td>2.750000</td>\n",
       "    </tr>\n",
       "    <tr>\n",
       "      <th>65</th>\n",
       "      <td>NaN</td>\n",
       "      <td>5</td>\n",
       "      <td>1</td>\n",
       "      <td>999</td>\n",
       "      <td>0.083333</td>\n",
       "    </tr>\n",
       "    <tr>\n",
       "      <th>257</th>\n",
       "      <td>NaN</td>\n",
       "      <td>1307</td>\n",
       "      <td>1</td>\n",
       "      <td>999</td>\n",
       "      <td>21.783333</td>\n",
       "    </tr>\n",
       "    <tr>\n",
       "      <th>336</th>\n",
       "      <td>NaN</td>\n",
       "      <td>97</td>\n",
       "      <td>2</td>\n",
       "      <td>999</td>\n",
       "      <td>1.616667</td>\n",
       "    </tr>\n",
       "    <tr>\n",
       "      <th>547</th>\n",
       "      <td>NaN</td>\n",
       "      <td>59</td>\n",
       "      <td>1</td>\n",
       "      <td>999</td>\n",
       "      <td>0.983333</td>\n",
       "    </tr>\n",
       "  </tbody>\n",
       "</table>\n",
       "</div>"
      ],
      "text/plain": [
       "     age  duration  contact_num  p_days  duration_mins\n",
       "44   NaN       165            4     999       2.750000\n",
       "65   NaN         5            1     999       0.083333\n",
       "257  NaN      1307            1     999      21.783333\n",
       "336  NaN        97            2     999       1.616667\n",
       "547  NaN        59            1     999       0.983333"
      ]
     },
     "execution_count": 54,
     "metadata": {},
     "output_type": "execute_result"
    }
   ],
   "source": [
    "# Select the numerical columns only\n",
    "cmpn_num = cmpn[var_num]\n",
    "mindex = cmpn_num[cmpn_num.age.isna()].head().index\n",
    "cmpn_num[cmpn_num.age.isna()].head()"
   ]
  },
  {
   "cell_type": "code",
   "execution_count": 55,
   "metadata": {},
   "outputs": [],
   "source": [
    "# impute missing values with column median\n",
    "X = imputer.fit_transform(cmpn_num)"
   ]
  },
  {
   "cell_type": "code",
   "execution_count": 56,
   "metadata": {},
   "outputs": [
    {
     "data": {
      "text/plain": [
       "array([[ 52.        , 108.        ,   2.        , 999.        ,\n",
       "          1.8       ],\n",
       "       [ 31.        , 422.        ,   5.        , 999.        ,\n",
       "          7.03333333],\n",
       "       [ 36.        , 107.        ,  13.        , 999.        ,\n",
       "          1.78333333],\n",
       "       ...,\n",
       "       [ 54.        , 178.        ,   5.        , 999.        ,\n",
       "          2.96666667],\n",
       "       [ 37.        , 219.        ,   2.        , 999.        ,\n",
       "          3.65      ],\n",
       "       [ 40.        , 534.        ,   1.        , 999.        ,\n",
       "          8.9       ]])"
      ]
     },
     "execution_count": 56,
     "metadata": {},
     "output_type": "execute_result"
    }
   ],
   "source": [
    "X"
   ]
  },
  {
   "cell_type": "code",
   "execution_count": 57,
   "metadata": {},
   "outputs": [
    {
     "data": {
      "text/plain": [
       "(41088, 5)"
      ]
     },
     "execution_count": 57,
     "metadata": {},
     "output_type": "execute_result"
    }
   ],
   "source": [
    "X.shape"
   ]
  },
  {
   "cell_type": "code",
   "execution_count": 58,
   "metadata": {},
   "outputs": [
    {
     "data": {
      "text/plain": [
       "array([ 38., 180.,   2., 999.,   3.])"
      ]
     },
     "execution_count": 58,
     "metadata": {},
     "output_type": "execute_result"
    }
   ],
   "source": [
    "imputer.statistics_"
   ]
  },
  {
   "cell_type": "code",
   "execution_count": 59,
   "metadata": {},
   "outputs": [
    {
     "data": {
      "text/plain": [
       "array([ 38., 180.,   2., 999.,   3.])"
      ]
     },
     "execution_count": 59,
     "metadata": {},
     "output_type": "execute_result"
    }
   ],
   "source": [
    "# manually calculate the median for each column\n",
    "cmpn_num.median().values"
   ]
  },
  {
   "cell_type": "code",
   "execution_count": 60,
   "metadata": {},
   "outputs": [],
   "source": [
    "# Add back columns name\n",
    "cmpn_num_df = pd.DataFrame(X, columns=cmpn_num.columns)"
   ]
  },
  {
   "cell_type": "code",
   "execution_count": 61,
   "metadata": {},
   "outputs": [
    {
     "data": {
      "text/html": [
       "<div>\n",
       "<style scoped>\n",
       "    .dataframe tbody tr th:only-of-type {\n",
       "        vertical-align: middle;\n",
       "    }\n",
       "\n",
       "    .dataframe tbody tr th {\n",
       "        vertical-align: top;\n",
       "    }\n",
       "\n",
       "    .dataframe thead th {\n",
       "        text-align: right;\n",
       "    }\n",
       "</style>\n",
       "<table border=\"1\" class=\"dataframe\">\n",
       "  <thead>\n",
       "    <tr style=\"text-align: right;\">\n",
       "      <th></th>\n",
       "      <th>age</th>\n",
       "      <th>duration</th>\n",
       "      <th>contact_num</th>\n",
       "      <th>p_days</th>\n",
       "      <th>duration_mins</th>\n",
       "    </tr>\n",
       "  </thead>\n",
       "  <tbody>\n",
       "    <tr>\n",
       "      <th>44</th>\n",
       "      <td>38.0</td>\n",
       "      <td>165.0</td>\n",
       "      <td>4.0</td>\n",
       "      <td>999.0</td>\n",
       "      <td>2.750000</td>\n",
       "    </tr>\n",
       "    <tr>\n",
       "      <th>65</th>\n",
       "      <td>38.0</td>\n",
       "      <td>5.0</td>\n",
       "      <td>1.0</td>\n",
       "      <td>999.0</td>\n",
       "      <td>0.083333</td>\n",
       "    </tr>\n",
       "    <tr>\n",
       "      <th>257</th>\n",
       "      <td>38.0</td>\n",
       "      <td>1307.0</td>\n",
       "      <td>1.0</td>\n",
       "      <td>999.0</td>\n",
       "      <td>21.783333</td>\n",
       "    </tr>\n",
       "    <tr>\n",
       "      <th>336</th>\n",
       "      <td>38.0</td>\n",
       "      <td>97.0</td>\n",
       "      <td>2.0</td>\n",
       "      <td>999.0</td>\n",
       "      <td>1.616667</td>\n",
       "    </tr>\n",
       "    <tr>\n",
       "      <th>547</th>\n",
       "      <td>38.0</td>\n",
       "      <td>59.0</td>\n",
       "      <td>1.0</td>\n",
       "      <td>999.0</td>\n",
       "      <td>0.983333</td>\n",
       "    </tr>\n",
       "  </tbody>\n",
       "</table>\n",
       "</div>"
      ],
      "text/plain": [
       "      age  duration  contact_num  p_days  duration_mins\n",
       "44   38.0     165.0          4.0   999.0       2.750000\n",
       "65   38.0       5.0          1.0   999.0       0.083333\n",
       "257  38.0    1307.0          1.0   999.0      21.783333\n",
       "336  38.0      97.0          2.0   999.0       1.616667\n",
       "547  38.0      59.0          1.0   999.0       0.983333"
      ]
     },
     "execution_count": 61,
     "metadata": {},
     "output_type": "execute_result"
    }
   ],
   "source": [
    "# Validate\n",
    "cmpn_num_df.loc[mindex]"
   ]
  },
  {
   "cell_type": "markdown",
   "metadata": {},
   "source": [
    "Most Frequent Imputer"
   ]
  },
  {
   "cell_type": "code",
   "execution_count": 62,
   "metadata": {},
   "outputs": [],
   "source": [
    "# Only select categorical variable"
   ]
  },
  {
   "cell_type": "code",
   "execution_count": 63,
   "metadata": {},
   "outputs": [
    {
     "data": {
      "text/plain": [
       "['job',\n",
       " 'marital',\n",
       " 'education',\n",
       " 'default',\n",
       " 'mortgage',\n",
       " 'loan',\n",
       " 'contact_type',\n",
       " 'p_outcome',\n",
       " 'y']"
      ]
     },
     "execution_count": 63,
     "metadata": {},
     "output_type": "execute_result"
    }
   ],
   "source": [
    "var_cat"
   ]
  },
  {
   "cell_type": "code",
   "execution_count": 64,
   "metadata": {},
   "outputs": [],
   "source": [
    "# Remove default from var_cat\n",
    "var_cat = [item for item in var_cat if item not in ['default']]\n",
    "cmpn_cat = cmpn[var_cat]"
   ]
  },
  {
   "cell_type": "code",
   "execution_count": 65,
   "metadata": {},
   "outputs": [
    {
     "data": {
      "text/html": [
       "<div>\n",
       "<style scoped>\n",
       "    .dataframe tbody tr th:only-of-type {\n",
       "        vertical-align: middle;\n",
       "    }\n",
       "\n",
       "    .dataframe tbody tr th {\n",
       "        vertical-align: top;\n",
       "    }\n",
       "\n",
       "    .dataframe thead th {\n",
       "        text-align: right;\n",
       "    }\n",
       "</style>\n",
       "<table border=\"1\" class=\"dataframe\">\n",
       "  <thead>\n",
       "    <tr style=\"text-align: right;\">\n",
       "      <th></th>\n",
       "      <th>job</th>\n",
       "      <th>marital</th>\n",
       "      <th>education</th>\n",
       "      <th>mortgage</th>\n",
       "      <th>loan</th>\n",
       "      <th>contact_type</th>\n",
       "      <th>p_outcome</th>\n",
       "      <th>y</th>\n",
       "    </tr>\n",
       "  </thead>\n",
       "  <tbody>\n",
       "    <tr>\n",
       "      <th>13</th>\n",
       "      <td>services</td>\n",
       "      <td>married</td>\n",
       "      <td>high.school</td>\n",
       "      <td>NaN</td>\n",
       "      <td>NaN</td>\n",
       "      <td>cellular</td>\n",
       "      <td>nonexistent</td>\n",
       "      <td>no</td>\n",
       "    </tr>\n",
       "    <tr>\n",
       "      <th>17</th>\n",
       "      <td>unemployed</td>\n",
       "      <td>married</td>\n",
       "      <td>NaN</td>\n",
       "      <td>yes</td>\n",
       "      <td>no</td>\n",
       "      <td>telephone</td>\n",
       "      <td>nonexistent</td>\n",
       "      <td>no</td>\n",
       "    </tr>\n",
       "    <tr>\n",
       "      <th>34</th>\n",
       "      <td>blue-collar</td>\n",
       "      <td>married</td>\n",
       "      <td>NaN</td>\n",
       "      <td>no</td>\n",
       "      <td>no</td>\n",
       "      <td>cellular</td>\n",
       "      <td>failure</td>\n",
       "      <td>no</td>\n",
       "    </tr>\n",
       "    <tr>\n",
       "      <th>62</th>\n",
       "      <td>NaN</td>\n",
       "      <td>married</td>\n",
       "      <td>NaN</td>\n",
       "      <td>no</td>\n",
       "      <td>no</td>\n",
       "      <td>telephone</td>\n",
       "      <td>nonexistent</td>\n",
       "      <td>no</td>\n",
       "    </tr>\n",
       "    <tr>\n",
       "      <th>70</th>\n",
       "      <td>student</td>\n",
       "      <td>divorced</td>\n",
       "      <td>NaN</td>\n",
       "      <td>no</td>\n",
       "      <td>no</td>\n",
       "      <td>telephone</td>\n",
       "      <td>nonexistent</td>\n",
       "      <td>no</td>\n",
       "    </tr>\n",
       "  </tbody>\n",
       "</table>\n",
       "</div>"
      ],
      "text/plain": [
       "            job   marital    education mortgage loan contact_type  \\\n",
       "13     services   married  high.school      NaN  NaN     cellular   \n",
       "17   unemployed   married          NaN      yes   no    telephone   \n",
       "34  blue-collar   married          NaN       no   no     cellular   \n",
       "62          NaN   married          NaN       no   no    telephone   \n",
       "70      student  divorced          NaN       no   no    telephone   \n",
       "\n",
       "      p_outcome   y  \n",
       "13  nonexistent  no  \n",
       "17  nonexistent  no  \n",
       "34      failure  no  \n",
       "62  nonexistent  no  \n",
       "70  nonexistent  no  "
      ]
     },
     "execution_count": 65,
     "metadata": {},
     "output_type": "execute_result"
    }
   ],
   "source": [
    "# Show some missing records\n",
    "mindex = cmpn_cat[cmpn_cat.isnull().any(axis='columns')].head().index\n",
    "cmpn_cat[cmpn_cat.isnull().any(axis='columns')].head()"
   ]
  },
  {
   "cell_type": "code",
   "execution_count": 66,
   "metadata": {},
   "outputs": [],
   "source": [
    "class MostFrequentImputer(BaseEstimator, TransformerMixin):\n",
    "    def fit(self, X, y=None):\n",
    "        self.most_frequent_ = pd.Series([X[c].value_counts().index[0] for c in X],\n",
    "                                        index=X.columns)\n",
    "        return self\n",
    "    def transform(self, X, y=None):\n",
    "        return X.fillna(self.most_frequent_)"
   ]
  },
  {
   "cell_type": "code",
   "execution_count": 67,
   "metadata": {},
   "outputs": [],
   "source": [
    "# Create MostFrequentImputer object\n",
    "MI = MostFrequentImputer()"
   ]
  },
  {
   "cell_type": "code",
   "execution_count": 68,
   "metadata": {},
   "outputs": [
    {
     "data": {
      "text/plain": [
       "__main__.MostFrequentImputer"
      ]
     },
     "execution_count": 68,
     "metadata": {},
     "output_type": "execute_result"
    }
   ],
   "source": [
    "type(MI)"
   ]
  },
  {
   "cell_type": "code",
   "execution_count": 69,
   "metadata": {},
   "outputs": [
    {
     "data": {
      "text/plain": [
       "MostFrequentImputer()"
      ]
     },
     "execution_count": 69,
     "metadata": {},
     "output_type": "execute_result"
    }
   ],
   "source": [
    "# Calculate the most frequent item for each column\n",
    "MI.fit(cmpn_cat)"
   ]
  },
  {
   "cell_type": "code",
   "execution_count": 70,
   "metadata": {},
   "outputs": [
    {
     "data": {
      "text/html": [
       "<div>\n",
       "<style scoped>\n",
       "    .dataframe tbody tr th:only-of-type {\n",
       "        vertical-align: middle;\n",
       "    }\n",
       "\n",
       "    .dataframe tbody tr th {\n",
       "        vertical-align: top;\n",
       "    }\n",
       "\n",
       "    .dataframe thead th {\n",
       "        text-align: right;\n",
       "    }\n",
       "</style>\n",
       "<table border=\"1\" class=\"dataframe\">\n",
       "  <thead>\n",
       "    <tr style=\"text-align: right;\">\n",
       "      <th></th>\n",
       "      <th>job</th>\n",
       "      <th>marital</th>\n",
       "      <th>education</th>\n",
       "      <th>mortgage</th>\n",
       "      <th>loan</th>\n",
       "      <th>contact_type</th>\n",
       "      <th>p_outcome</th>\n",
       "      <th>y</th>\n",
       "    </tr>\n",
       "  </thead>\n",
       "  <tbody>\n",
       "    <tr>\n",
       "      <th>13</th>\n",
       "      <td>services</td>\n",
       "      <td>married</td>\n",
       "      <td>high.school</td>\n",
       "      <td>yes</td>\n",
       "      <td>no</td>\n",
       "      <td>cellular</td>\n",
       "      <td>nonexistent</td>\n",
       "      <td>no</td>\n",
       "    </tr>\n",
       "    <tr>\n",
       "      <th>17</th>\n",
       "      <td>unemployed</td>\n",
       "      <td>married</td>\n",
       "      <td>university.degree</td>\n",
       "      <td>yes</td>\n",
       "      <td>no</td>\n",
       "      <td>telephone</td>\n",
       "      <td>nonexistent</td>\n",
       "      <td>no</td>\n",
       "    </tr>\n",
       "    <tr>\n",
       "      <th>34</th>\n",
       "      <td>blue-collar</td>\n",
       "      <td>married</td>\n",
       "      <td>university.degree</td>\n",
       "      <td>no</td>\n",
       "      <td>no</td>\n",
       "      <td>cellular</td>\n",
       "      <td>failure</td>\n",
       "      <td>no</td>\n",
       "    </tr>\n",
       "    <tr>\n",
       "      <th>62</th>\n",
       "      <td>admin.</td>\n",
       "      <td>married</td>\n",
       "      <td>university.degree</td>\n",
       "      <td>no</td>\n",
       "      <td>no</td>\n",
       "      <td>telephone</td>\n",
       "      <td>nonexistent</td>\n",
       "      <td>no</td>\n",
       "    </tr>\n",
       "    <tr>\n",
       "      <th>70</th>\n",
       "      <td>student</td>\n",
       "      <td>divorced</td>\n",
       "      <td>university.degree</td>\n",
       "      <td>no</td>\n",
       "      <td>no</td>\n",
       "      <td>telephone</td>\n",
       "      <td>nonexistent</td>\n",
       "      <td>no</td>\n",
       "    </tr>\n",
       "  </tbody>\n",
       "</table>\n",
       "</div>"
      ],
      "text/plain": [
       "            job   marital          education mortgage loan contact_type  \\\n",
       "13     services   married        high.school      yes   no     cellular   \n",
       "17   unemployed   married  university.degree      yes   no    telephone   \n",
       "34  blue-collar   married  university.degree       no   no     cellular   \n",
       "62       admin.   married  university.degree       no   no    telephone   \n",
       "70      student  divorced  university.degree       no   no    telephone   \n",
       "\n",
       "      p_outcome   y  \n",
       "13  nonexistent  no  \n",
       "17  nonexistent  no  \n",
       "34      failure  no  \n",
       "62  nonexistent  no  \n",
       "70  nonexistent  no  "
      ]
     },
     "execution_count": 70,
     "metadata": {},
     "output_type": "execute_result"
    }
   ],
   "source": [
    "# Impute missing value\n",
    "cmpn_cat_df = MI.transform(cmpn_cat)\n",
    "cmpn_cat_df.loc[mindex]"
   ]
  },
  {
   "cell_type": "markdown",
   "metadata": {},
   "source": [
    "#### d Data Concatenation"
   ]
  },
  {
   "cell_type": "code",
   "execution_count": 71,
   "metadata": {},
   "outputs": [],
   "source": [
    "cmpn = pd.concat([cmpn[var_key],cmpn_num_df,cmpn_cat_df], axis=1)[cmpn.columns]"
   ]
  },
  {
   "cell_type": "code",
   "execution_count": 72,
   "metadata": {},
   "outputs": [
    {
     "data": {
      "text/plain": [
       "False"
      ]
     },
     "execution_count": 72,
     "metadata": {},
     "output_type": "execute_result"
    }
   ],
   "source": [
    "# Check if the entire dataset has any NA values\n",
    "cmpn.isnull().any(axis=None)"
   ]
  },
  {
   "cell_type": "code",
   "execution_count": 73,
   "metadata": {},
   "outputs": [
    {
     "data": {
      "text/plain": [
       "(41088, 16)"
      ]
     },
     "execution_count": 73,
     "metadata": {},
     "output_type": "execute_result"
    }
   ],
   "source": [
    "cmpn.shape"
   ]
  },
  {
   "cell_type": "code",
   "execution_count": 74,
   "metadata": {
    "scrolled": true
   },
   "outputs": [
    {
     "data": {
      "text/html": [
       "<div>\n",
       "<style scoped>\n",
       "    .dataframe tbody tr th:only-of-type {\n",
       "        vertical-align: middle;\n",
       "    }\n",
       "\n",
       "    .dataframe tbody tr th {\n",
       "        vertical-align: top;\n",
       "    }\n",
       "\n",
       "    .dataframe thead th {\n",
       "        text-align: right;\n",
       "    }\n",
       "</style>\n",
       "<table border=\"1\" class=\"dataframe\">\n",
       "  <thead>\n",
       "    <tr style=\"text-align: right;\">\n",
       "      <th></th>\n",
       "      <th>cust_id</th>\n",
       "      <th>age</th>\n",
       "      <th>job</th>\n",
       "      <th>marital</th>\n",
       "      <th>education</th>\n",
       "      <th>mortgage</th>\n",
       "      <th>loan</th>\n",
       "      <th>contact_type</th>\n",
       "      <th>duration</th>\n",
       "      <th>contact_num</th>\n",
       "      <th>p_days</th>\n",
       "      <th>p_outcome</th>\n",
       "      <th>y</th>\n",
       "      <th>duration_mins</th>\n",
       "      <th>date</th>\n",
       "      <th>yrmth</th>\n",
       "    </tr>\n",
       "  </thead>\n",
       "  <tbody>\n",
       "    <tr>\n",
       "      <th>0</th>\n",
       "      <td>44715</td>\n",
       "      <td>52.0</td>\n",
       "      <td>blue-collar</td>\n",
       "      <td>married</td>\n",
       "      <td>basic.6y</td>\n",
       "      <td>yes</td>\n",
       "      <td>no</td>\n",
       "      <td>cellular</td>\n",
       "      <td>108.0</td>\n",
       "      <td>2.0</td>\n",
       "      <td>999.0</td>\n",
       "      <td>nonexistent</td>\n",
       "      <td>no</td>\n",
       "      <td>1.800000</td>\n",
       "      <td>2008-08-02</td>\n",
       "      <td>200808</td>\n",
       "    </tr>\n",
       "    <tr>\n",
       "      <th>1</th>\n",
       "      <td>62194</td>\n",
       "      <td>31.0</td>\n",
       "      <td>management</td>\n",
       "      <td>married</td>\n",
       "      <td>university.degree</td>\n",
       "      <td>yes</td>\n",
       "      <td>no</td>\n",
       "      <td>telephone</td>\n",
       "      <td>422.0</td>\n",
       "      <td>5.0</td>\n",
       "      <td>999.0</td>\n",
       "      <td>nonexistent</td>\n",
       "      <td>no</td>\n",
       "      <td>7.033333</td>\n",
       "      <td>2008-06-03</td>\n",
       "      <td>200806</td>\n",
       "    </tr>\n",
       "    <tr>\n",
       "      <th>2</th>\n",
       "      <td>25436</td>\n",
       "      <td>36.0</td>\n",
       "      <td>entrepreneur</td>\n",
       "      <td>married</td>\n",
       "      <td>university.degree</td>\n",
       "      <td>yes</td>\n",
       "      <td>no</td>\n",
       "      <td>cellular</td>\n",
       "      <td>107.0</td>\n",
       "      <td>13.0</td>\n",
       "      <td>999.0</td>\n",
       "      <td>nonexistent</td>\n",
       "      <td>no</td>\n",
       "      <td>1.783333</td>\n",
       "      <td>2008-07-16</td>\n",
       "      <td>200807</td>\n",
       "    </tr>\n",
       "    <tr>\n",
       "      <th>3</th>\n",
       "      <td>39633</td>\n",
       "      <td>44.0</td>\n",
       "      <td>blue-collar</td>\n",
       "      <td>married</td>\n",
       "      <td>basic.4y</td>\n",
       "      <td>yes</td>\n",
       "      <td>no</td>\n",
       "      <td>cellular</td>\n",
       "      <td>311.0</td>\n",
       "      <td>1.0</td>\n",
       "      <td>999.0</td>\n",
       "      <td>nonexistent</td>\n",
       "      <td>no</td>\n",
       "      <td>5.183333</td>\n",
       "      <td>2008-07-15</td>\n",
       "      <td>200807</td>\n",
       "    </tr>\n",
       "    <tr>\n",
       "      <th>4</th>\n",
       "      <td>92803</td>\n",
       "      <td>32.0</td>\n",
       "      <td>admin.</td>\n",
       "      <td>married</td>\n",
       "      <td>university.degree</td>\n",
       "      <td>yes</td>\n",
       "      <td>yes</td>\n",
       "      <td>cellular</td>\n",
       "      <td>51.0</td>\n",
       "      <td>1.0</td>\n",
       "      <td>999.0</td>\n",
       "      <td>nonexistent</td>\n",
       "      <td>no</td>\n",
       "      <td>0.850000</td>\n",
       "      <td>2008-11-09</td>\n",
       "      <td>200811</td>\n",
       "    </tr>\n",
       "  </tbody>\n",
       "</table>\n",
       "</div>"
      ],
      "text/plain": [
       "   cust_id   age           job  marital          education mortgage loan  \\\n",
       "0    44715  52.0   blue-collar  married           basic.6y      yes   no   \n",
       "1    62194  31.0    management  married  university.degree      yes   no   \n",
       "2    25436  36.0  entrepreneur  married  university.degree      yes   no   \n",
       "3    39633  44.0   blue-collar  married           basic.4y      yes   no   \n",
       "4    92803  32.0        admin.  married  university.degree      yes  yes   \n",
       "\n",
       "  contact_type  duration  contact_num  p_days    p_outcome   y  duration_mins  \\\n",
       "0     cellular     108.0          2.0   999.0  nonexistent  no       1.800000   \n",
       "1    telephone     422.0          5.0   999.0  nonexistent  no       7.033333   \n",
       "2     cellular     107.0         13.0   999.0  nonexistent  no       1.783333   \n",
       "3     cellular     311.0          1.0   999.0  nonexistent  no       5.183333   \n",
       "4     cellular      51.0          1.0   999.0  nonexistent  no       0.850000   \n",
       "\n",
       "        date   yrmth  \n",
       "0 2008-08-02  200808  \n",
       "1 2008-06-03  200806  \n",
       "2 2008-07-16  200807  \n",
       "3 2008-07-15  200807  \n",
       "4 2008-11-09  200811  "
      ]
     },
     "execution_count": 74,
     "metadata": {},
     "output_type": "execute_result"
    }
   ],
   "source": [
    "cmpn.head()"
   ]
  },
  {
   "cell_type": "markdown",
   "metadata": {},
   "source": [
    " "
   ]
  },
  {
   "cell_type": "markdown",
   "metadata": {},
   "source": [
    " "
   ]
  },
  {
   "cell_type": "markdown",
   "metadata": {},
   "source": [
    "## Task 4 Check if response rate has any seasonality "
   ]
  },
  {
   "cell_type": "code",
   "execution_count": 75,
   "metadata": {},
   "outputs": [
    {
     "data": {
      "text/plain": [
       "5     13733\n",
       "7      7150\n",
       "8      6168\n",
       "6      5307\n",
       "11     4095\n",
       "4      2626\n",
       "10      713\n",
       "9       570\n",
       "3       544\n",
       "12      182\n",
       "Name: month, dtype: int64"
      ]
     },
     "execution_count": 75,
     "metadata": {},
     "output_type": "execute_result"
    }
   ],
   "source": [
    "# Add month column\n",
    "cmpn['month'] = cmpn.date.dt.month\n",
    "cmpn.month.value_counts()"
   ]
  },
  {
   "cell_type": "code",
   "execution_count": 76,
   "metadata": {},
   "outputs": [
    {
     "data": {
      "text/html": [
       "<div>\n",
       "<style scoped>\n",
       "    .dataframe tbody tr th:only-of-type {\n",
       "        vertical-align: middle;\n",
       "    }\n",
       "\n",
       "    .dataframe tbody tr th {\n",
       "        vertical-align: top;\n",
       "    }\n",
       "\n",
       "    .dataframe thead th {\n",
       "        text-align: right;\n",
       "    }\n",
       "</style>\n",
       "<table border=\"1\" class=\"dataframe\">\n",
       "  <thead>\n",
       "    <tr style=\"text-align: right;\">\n",
       "      <th>y</th>\n",
       "      <th>no</th>\n",
       "      <th>yes</th>\n",
       "      <th>All</th>\n",
       "    </tr>\n",
       "    <tr>\n",
       "      <th>month</th>\n",
       "      <th></th>\n",
       "      <th></th>\n",
       "      <th></th>\n",
       "    </tr>\n",
       "  </thead>\n",
       "  <tbody>\n",
       "    <tr>\n",
       "      <th>3</th>\n",
       "      <td>268</td>\n",
       "      <td>276</td>\n",
       "      <td>544</td>\n",
       "    </tr>\n",
       "    <tr>\n",
       "      <th>4</th>\n",
       "      <td>2088</td>\n",
       "      <td>538</td>\n",
       "      <td>2626</td>\n",
       "    </tr>\n",
       "    <tr>\n",
       "      <th>5</th>\n",
       "      <td>12849</td>\n",
       "      <td>884</td>\n",
       "      <td>13733</td>\n",
       "    </tr>\n",
       "    <tr>\n",
       "      <th>6</th>\n",
       "      <td>4748</td>\n",
       "      <td>559</td>\n",
       "      <td>5307</td>\n",
       "    </tr>\n",
       "    <tr>\n",
       "      <th>7</th>\n",
       "      <td>6503</td>\n",
       "      <td>647</td>\n",
       "      <td>7150</td>\n",
       "    </tr>\n",
       "    <tr>\n",
       "      <th>8</th>\n",
       "      <td>5516</td>\n",
       "      <td>652</td>\n",
       "      <td>6168</td>\n",
       "    </tr>\n",
       "    <tr>\n",
       "      <th>9</th>\n",
       "      <td>314</td>\n",
       "      <td>256</td>\n",
       "      <td>570</td>\n",
       "    </tr>\n",
       "    <tr>\n",
       "      <th>10</th>\n",
       "      <td>400</td>\n",
       "      <td>313</td>\n",
       "      <td>713</td>\n",
       "    </tr>\n",
       "    <tr>\n",
       "      <th>11</th>\n",
       "      <td>3680</td>\n",
       "      <td>415</td>\n",
       "      <td>4095</td>\n",
       "    </tr>\n",
       "    <tr>\n",
       "      <th>12</th>\n",
       "      <td>93</td>\n",
       "      <td>89</td>\n",
       "      <td>182</td>\n",
       "    </tr>\n",
       "    <tr>\n",
       "      <th>All</th>\n",
       "      <td>36459</td>\n",
       "      <td>4629</td>\n",
       "      <td>41088</td>\n",
       "    </tr>\n",
       "  </tbody>\n",
       "</table>\n",
       "</div>"
      ],
      "text/plain": [
       "y         no   yes    All\n",
       "month                    \n",
       "3        268   276    544\n",
       "4       2088   538   2626\n",
       "5      12849   884  13733\n",
       "6       4748   559   5307\n",
       "7       6503   647   7150\n",
       "8       5516   652   6168\n",
       "9        314   256    570\n",
       "10       400   313    713\n",
       "11      3680   415   4095\n",
       "12        93    89    182\n",
       "All    36459  4629  41088"
      ]
     },
     "execution_count": 76,
     "metadata": {},
     "output_type": "execute_result"
    }
   ],
   "source": [
    "# Number of contact by month and y\n",
    "res = cmpn.pivot_table(values='cust_id', index='month', columns='y', aggfunc='count', margins=True)\n",
    "res"
   ]
  },
  {
   "cell_type": "code",
   "execution_count": 77,
   "metadata": {},
   "outputs": [
    {
     "data": {
      "text/html": [
       "<div>\n",
       "<style scoped>\n",
       "    .dataframe tbody tr th:only-of-type {\n",
       "        vertical-align: middle;\n",
       "    }\n",
       "\n",
       "    .dataframe tbody tr th {\n",
       "        vertical-align: top;\n",
       "    }\n",
       "\n",
       "    .dataframe thead th {\n",
       "        text-align: right;\n",
       "    }\n",
       "</style>\n",
       "<table border=\"1\" class=\"dataframe\">\n",
       "  <thead>\n",
       "    <tr style=\"text-align: right;\">\n",
       "      <th>y</th>\n",
       "      <th>no</th>\n",
       "      <th>yes</th>\n",
       "      <th>All</th>\n",
       "      <th>response_rate</th>\n",
       "    </tr>\n",
       "    <tr>\n",
       "      <th>month</th>\n",
       "      <th></th>\n",
       "      <th></th>\n",
       "      <th></th>\n",
       "      <th></th>\n",
       "    </tr>\n",
       "  </thead>\n",
       "  <tbody>\n",
       "    <tr>\n",
       "      <th>3</th>\n",
       "      <td>268</td>\n",
       "      <td>276</td>\n",
       "      <td>544</td>\n",
       "      <td>0.507353</td>\n",
       "    </tr>\n",
       "    <tr>\n",
       "      <th>4</th>\n",
       "      <td>2088</td>\n",
       "      <td>538</td>\n",
       "      <td>2626</td>\n",
       "      <td>0.204874</td>\n",
       "    </tr>\n",
       "    <tr>\n",
       "      <th>5</th>\n",
       "      <td>12849</td>\n",
       "      <td>884</td>\n",
       "      <td>13733</td>\n",
       "      <td>0.064370</td>\n",
       "    </tr>\n",
       "    <tr>\n",
       "      <th>6</th>\n",
       "      <td>4748</td>\n",
       "      <td>559</td>\n",
       "      <td>5307</td>\n",
       "      <td>0.105333</td>\n",
       "    </tr>\n",
       "    <tr>\n",
       "      <th>7</th>\n",
       "      <td>6503</td>\n",
       "      <td>647</td>\n",
       "      <td>7150</td>\n",
       "      <td>0.090490</td>\n",
       "    </tr>\n",
       "    <tr>\n",
       "      <th>8</th>\n",
       "      <td>5516</td>\n",
       "      <td>652</td>\n",
       "      <td>6168</td>\n",
       "      <td>0.105707</td>\n",
       "    </tr>\n",
       "    <tr>\n",
       "      <th>9</th>\n",
       "      <td>314</td>\n",
       "      <td>256</td>\n",
       "      <td>570</td>\n",
       "      <td>0.449123</td>\n",
       "    </tr>\n",
       "    <tr>\n",
       "      <th>10</th>\n",
       "      <td>400</td>\n",
       "      <td>313</td>\n",
       "      <td>713</td>\n",
       "      <td>0.438990</td>\n",
       "    </tr>\n",
       "    <tr>\n",
       "      <th>11</th>\n",
       "      <td>3680</td>\n",
       "      <td>415</td>\n",
       "      <td>4095</td>\n",
       "      <td>0.101343</td>\n",
       "    </tr>\n",
       "    <tr>\n",
       "      <th>12</th>\n",
       "      <td>93</td>\n",
       "      <td>89</td>\n",
       "      <td>182</td>\n",
       "      <td>0.489011</td>\n",
       "    </tr>\n",
       "    <tr>\n",
       "      <th>All</th>\n",
       "      <td>36459</td>\n",
       "      <td>4629</td>\n",
       "      <td>41088</td>\n",
       "      <td>0.112661</td>\n",
       "    </tr>\n",
       "  </tbody>\n",
       "</table>\n",
       "</div>"
      ],
      "text/plain": [
       "y         no   yes    All  response_rate\n",
       "month                                   \n",
       "3        268   276    544       0.507353\n",
       "4       2088   538   2626       0.204874\n",
       "5      12849   884  13733       0.064370\n",
       "6       4748   559   5307       0.105333\n",
       "7       6503   647   7150       0.090490\n",
       "8       5516   652   6168       0.105707\n",
       "9        314   256    570       0.449123\n",
       "10       400   313    713       0.438990\n",
       "11      3680   415   4095       0.101343\n",
       "12        93    89    182       0.489011\n",
       "All    36459  4629  41088       0.112661"
      ]
     },
     "execution_count": 77,
     "metadata": {},
     "output_type": "execute_result"
    }
   ],
   "source": [
    "# Add response rate\n",
    "res['response_rate'] = res.yes / res.All\n",
    "res"
   ]
  },
  {
   "cell_type": "code",
   "execution_count": 78,
   "metadata": {},
   "outputs": [
    {
     "data": {
      "text/html": [
       "<div>\n",
       "<style scoped>\n",
       "    .dataframe tbody tr th:only-of-type {\n",
       "        vertical-align: middle;\n",
       "    }\n",
       "\n",
       "    .dataframe tbody tr th {\n",
       "        vertical-align: top;\n",
       "    }\n",
       "\n",
       "    .dataframe thead th {\n",
       "        text-align: right;\n",
       "    }\n",
       "</style>\n",
       "<table border=\"1\" class=\"dataframe\">\n",
       "  <thead>\n",
       "    <tr style=\"text-align: right;\">\n",
       "      <th>y</th>\n",
       "      <th>no</th>\n",
       "      <th>yes</th>\n",
       "      <th>All</th>\n",
       "      <th>response_rate</th>\n",
       "    </tr>\n",
       "    <tr>\n",
       "      <th>month</th>\n",
       "      <th></th>\n",
       "      <th></th>\n",
       "      <th></th>\n",
       "      <th></th>\n",
       "    </tr>\n",
       "  </thead>\n",
       "  <tbody>\n",
       "    <tr>\n",
       "      <th>3</th>\n",
       "      <td>268</td>\n",
       "      <td>276</td>\n",
       "      <td>544</td>\n",
       "      <td>0.507353</td>\n",
       "    </tr>\n",
       "    <tr>\n",
       "      <th>12</th>\n",
       "      <td>93</td>\n",
       "      <td>89</td>\n",
       "      <td>182</td>\n",
       "      <td>0.489011</td>\n",
       "    </tr>\n",
       "    <tr>\n",
       "      <th>9</th>\n",
       "      <td>314</td>\n",
       "      <td>256</td>\n",
       "      <td>570</td>\n",
       "      <td>0.449123</td>\n",
       "    </tr>\n",
       "    <tr>\n",
       "      <th>10</th>\n",
       "      <td>400</td>\n",
       "      <td>313</td>\n",
       "      <td>713</td>\n",
       "      <td>0.438990</td>\n",
       "    </tr>\n",
       "    <tr>\n",
       "      <th>4</th>\n",
       "      <td>2088</td>\n",
       "      <td>538</td>\n",
       "      <td>2626</td>\n",
       "      <td>0.204874</td>\n",
       "    </tr>\n",
       "    <tr>\n",
       "      <th>8</th>\n",
       "      <td>5516</td>\n",
       "      <td>652</td>\n",
       "      <td>6168</td>\n",
       "      <td>0.105707</td>\n",
       "    </tr>\n",
       "    <tr>\n",
       "      <th>6</th>\n",
       "      <td>4748</td>\n",
       "      <td>559</td>\n",
       "      <td>5307</td>\n",
       "      <td>0.105333</td>\n",
       "    </tr>\n",
       "    <tr>\n",
       "      <th>11</th>\n",
       "      <td>3680</td>\n",
       "      <td>415</td>\n",
       "      <td>4095</td>\n",
       "      <td>0.101343</td>\n",
       "    </tr>\n",
       "    <tr>\n",
       "      <th>7</th>\n",
       "      <td>6503</td>\n",
       "      <td>647</td>\n",
       "      <td>7150</td>\n",
       "      <td>0.090490</td>\n",
       "    </tr>\n",
       "    <tr>\n",
       "      <th>5</th>\n",
       "      <td>12849</td>\n",
       "      <td>884</td>\n",
       "      <td>13733</td>\n",
       "      <td>0.064370</td>\n",
       "    </tr>\n",
       "  </tbody>\n",
       "</table>\n",
       "</div>"
      ],
      "text/plain": [
       "y         no  yes    All  response_rate\n",
       "month                                  \n",
       "3        268  276    544       0.507353\n",
       "12        93   89    182       0.489011\n",
       "9        314  256    570       0.449123\n",
       "10       400  313    713       0.438990\n",
       "4       2088  538   2626       0.204874\n",
       "8       5516  652   6168       0.105707\n",
       "6       4748  559   5307       0.105333\n",
       "11      3680  415   4095       0.101343\n",
       "7       6503  647   7150       0.090490\n",
       "5      12849  884  13733       0.064370"
      ]
     },
     "execution_count": 78,
     "metadata": {},
     "output_type": "execute_result"
    }
   ],
   "source": [
    "# Remove \"all\" row and sort by response rate (descending)\n",
    "res1 = res.iloc[:-1,:].sort_values(by='response_rate', ascending=False)\n",
    "res1"
   ]
  },
  {
   "cell_type": "code",
   "execution_count": 79,
   "metadata": {},
   "outputs": [
    {
     "data": {
      "text/html": [
       "<div>\n",
       "<style scoped>\n",
       "    .dataframe tbody tr th:only-of-type {\n",
       "        vertical-align: middle;\n",
       "    }\n",
       "\n",
       "    .dataframe tbody tr th {\n",
       "        vertical-align: top;\n",
       "    }\n",
       "\n",
       "    .dataframe thead th {\n",
       "        text-align: right;\n",
       "    }\n",
       "</style>\n",
       "<table border=\"1\" class=\"dataframe\">\n",
       "  <thead>\n",
       "    <tr style=\"text-align: right;\">\n",
       "      <th>y</th>\n",
       "      <th>no</th>\n",
       "      <th>yes</th>\n",
       "      <th>All</th>\n",
       "      <th>response_rate</th>\n",
       "    </tr>\n",
       "    <tr>\n",
       "      <th>month</th>\n",
       "      <th></th>\n",
       "      <th></th>\n",
       "      <th></th>\n",
       "      <th></th>\n",
       "    </tr>\n",
       "  </thead>\n",
       "  <tbody>\n",
       "    <tr>\n",
       "      <th>All</th>\n",
       "      <td>36459</td>\n",
       "      <td>4629</td>\n",
       "      <td>41088</td>\n",
       "      <td>0.112661</td>\n",
       "    </tr>\n",
       "  </tbody>\n",
       "</table>\n",
       "</div>"
      ],
      "text/plain": [
       "y         no   yes    All  response_rate\n",
       "month                                   \n",
       "All    36459  4629  41088       0.112661"
      ]
     },
     "execution_count": 79,
     "metadata": {},
     "output_type": "execute_result"
    }
   ],
   "source": [
    "# Extract \"all\" row\n",
    "res2 = res.iloc[-1:,:]\n",
    "res2"
   ]
  },
  {
   "cell_type": "code",
   "execution_count": 80,
   "metadata": {},
   "outputs": [
    {
     "data": {
      "text/html": [
       "<div>\n",
       "<style scoped>\n",
       "    .dataframe tbody tr th:only-of-type {\n",
       "        vertical-align: middle;\n",
       "    }\n",
       "\n",
       "    .dataframe tbody tr th {\n",
       "        vertical-align: top;\n",
       "    }\n",
       "\n",
       "    .dataframe thead th {\n",
       "        text-align: right;\n",
       "    }\n",
       "</style>\n",
       "<table border=\"1\" class=\"dataframe\">\n",
       "  <thead>\n",
       "    <tr style=\"text-align: right;\">\n",
       "      <th>y</th>\n",
       "      <th>no</th>\n",
       "      <th>yes</th>\n",
       "      <th>All</th>\n",
       "      <th>response_rate</th>\n",
       "    </tr>\n",
       "    <tr>\n",
       "      <th>month</th>\n",
       "      <th></th>\n",
       "      <th></th>\n",
       "      <th></th>\n",
       "      <th></th>\n",
       "    </tr>\n",
       "  </thead>\n",
       "  <tbody>\n",
       "    <tr>\n",
       "      <th>3</th>\n",
       "      <td>268</td>\n",
       "      <td>276</td>\n",
       "      <td>544</td>\n",
       "      <td>0.507353</td>\n",
       "    </tr>\n",
       "    <tr>\n",
       "      <th>12</th>\n",
       "      <td>93</td>\n",
       "      <td>89</td>\n",
       "      <td>182</td>\n",
       "      <td>0.489011</td>\n",
       "    </tr>\n",
       "    <tr>\n",
       "      <th>9</th>\n",
       "      <td>314</td>\n",
       "      <td>256</td>\n",
       "      <td>570</td>\n",
       "      <td>0.449123</td>\n",
       "    </tr>\n",
       "    <tr>\n",
       "      <th>10</th>\n",
       "      <td>400</td>\n",
       "      <td>313</td>\n",
       "      <td>713</td>\n",
       "      <td>0.438990</td>\n",
       "    </tr>\n",
       "    <tr>\n",
       "      <th>4</th>\n",
       "      <td>2088</td>\n",
       "      <td>538</td>\n",
       "      <td>2626</td>\n",
       "      <td>0.204874</td>\n",
       "    </tr>\n",
       "    <tr>\n",
       "      <th>8</th>\n",
       "      <td>5516</td>\n",
       "      <td>652</td>\n",
       "      <td>6168</td>\n",
       "      <td>0.105707</td>\n",
       "    </tr>\n",
       "    <tr>\n",
       "      <th>6</th>\n",
       "      <td>4748</td>\n",
       "      <td>559</td>\n",
       "      <td>5307</td>\n",
       "      <td>0.105333</td>\n",
       "    </tr>\n",
       "    <tr>\n",
       "      <th>11</th>\n",
       "      <td>3680</td>\n",
       "      <td>415</td>\n",
       "      <td>4095</td>\n",
       "      <td>0.101343</td>\n",
       "    </tr>\n",
       "    <tr>\n",
       "      <th>7</th>\n",
       "      <td>6503</td>\n",
       "      <td>647</td>\n",
       "      <td>7150</td>\n",
       "      <td>0.090490</td>\n",
       "    </tr>\n",
       "    <tr>\n",
       "      <th>5</th>\n",
       "      <td>12849</td>\n",
       "      <td>884</td>\n",
       "      <td>13733</td>\n",
       "      <td>0.064370</td>\n",
       "    </tr>\n",
       "    <tr>\n",
       "      <th>All</th>\n",
       "      <td>36459</td>\n",
       "      <td>4629</td>\n",
       "      <td>41088</td>\n",
       "      <td>0.112661</td>\n",
       "    </tr>\n",
       "  </tbody>\n",
       "</table>\n",
       "</div>"
      ],
      "text/plain": [
       "y         no   yes    All  response_rate\n",
       "month                                   \n",
       "3        268   276    544       0.507353\n",
       "12        93    89    182       0.489011\n",
       "9        314   256    570       0.449123\n",
       "10       400   313    713       0.438990\n",
       "4       2088   538   2626       0.204874\n",
       "8       5516   652   6168       0.105707\n",
       "6       4748   559   5307       0.105333\n",
       "11      3680   415   4095       0.101343\n",
       "7       6503   647   7150       0.090490\n",
       "5      12849   884  13733       0.064370\n",
       "All    36459  4629  41088       0.112661"
      ]
     },
     "execution_count": 80,
     "metadata": {},
     "output_type": "execute_result"
    }
   ],
   "source": [
    "# concatenate res1 and res2\n",
    "pd.concat([res1,res2], axis=0)"
   ]
  },
  {
   "cell_type": "markdown",
   "metadata": {},
   "source": [
    " "
   ]
  },
  {
   "cell_type": "markdown",
   "metadata": {},
   "source": [
    " "
   ]
  },
  {
   "cell_type": "markdown",
   "metadata": {},
   "source": [
    "## Task 5 Discover and Visualize the Data to Gain Insights"
   ]
  },
  {
   "cell_type": "code",
   "execution_count": 81,
   "metadata": {
    "scrolled": true
   },
   "outputs": [
    {
     "data": {
      "image/png": "[encoded data removed]",
      "text/plain": [
       "<Figure size 1440x360 with 1 Axes>"
      ]
     },
     "metadata": {
      "needs_background": "light"
     },
     "output_type": "display_data"
    }
   ],
   "source": [
    "plt.subplots(figsize=(20,5))\n",
    "sns.countplot(x = 'job', data = cmpn)\n",
    "sns.despine() # try to see the difference without running sns.despine()"
   ]
  },
  {
   "cell_type": "code",
   "execution_count": 82,
   "metadata": {},
   "outputs": [],
   "source": [
    "# Add chart title, xlabel and ylabel\n",
    "\n",
    "# fig, ax1 = plt.subplots(figsize=(20,5))\n",
    "# sns.countplot(x = 'job', data = cmpn, ax = ax1)\n",
    "# ax1.set_xlabel('Job', fontsize=15)\n",
    "# ax1.set_ylabel('Count', fontsize=15)\n",
    "# ax1.set_title('Job Count Distribution', fontsize=15)\n",
    "# ax1.tick_params(labelsize=15)\n",
    "# sns.despine()"
   ]
  },
  {
   "cell_type": "code",
   "execution_count": 83,
   "metadata": {},
   "outputs": [
    {
     "data": {
      "image/png": "[encoded data removed]",
      "text/plain": [
       "<Figure size 576x360 with 1 Axes>"
      ]
     },
     "metadata": {
      "needs_background": "light"
     },
     "output_type": "display_data"
    }
   ],
   "source": [
    "plt.subplots(figsize=(8,5))\n",
    "sns.boxplot(x='y', y='duration', data=cmpn)\n",
    "sns.despine()"
   ]
  },
  {
   "cell_type": "code",
   "execution_count": 84,
   "metadata": {},
   "outputs": [],
   "source": [
    "# fig, ax1= plt.subplots(figsize=(8,5))\n",
    "# sns.boxplot(x='y', y='duration', data=cmpn, ax=ax1)\n",
    "# ax1.set_xlabel('y', fontsize=15)\n",
    "# ax1.set_ylabel('Duration', fontsize=15)\n",
    "# ax1.set_title('Duration Distribution', fontsize=15)\n",
    "# ax1.tick_params(labelsize=15)\n",
    "# sns.despine()"
   ]
  },
  {
   "cell_type": "markdown",
   "metadata": {},
   "source": [
    " "
   ]
  },
  {
   "cell_type": "markdown",
   "metadata": {},
   "source": [
    " "
   ]
  },
  {
   "cell_type": "markdown",
   "metadata": {},
   "source": [
    "## Task 6 - Predict who is more likely to respond the campaign"
   ]
  },
  {
   "cell_type": "markdown",
   "metadata": {},
   "source": [
    "### Dataset Preparation"
   ]
  },
  {
   "cell_type": "code",
   "execution_count": 85,
   "metadata": {},
   "outputs": [
    {
     "data": {
      "text/html": [
       "<div>\n",
       "<style scoped>\n",
       "    .dataframe tbody tr th:only-of-type {\n",
       "        vertical-align: middle;\n",
       "    }\n",
       "\n",
       "    .dataframe tbody tr th {\n",
       "        vertical-align: top;\n",
       "    }\n",
       "\n",
       "    .dataframe thead th {\n",
       "        text-align: right;\n",
       "    }\n",
       "</style>\n",
       "<table border=\"1\" class=\"dataframe\">\n",
       "  <thead>\n",
       "    <tr style=\"text-align: right;\">\n",
       "      <th></th>\n",
       "      <th>cust_id</th>\n",
       "      <th>age</th>\n",
       "      <th>job</th>\n",
       "      <th>marital</th>\n",
       "      <th>education</th>\n",
       "      <th>mortgage</th>\n",
       "      <th>loan</th>\n",
       "      <th>contact_type</th>\n",
       "      <th>duration</th>\n",
       "      <th>contact_num</th>\n",
       "      <th>p_days</th>\n",
       "      <th>p_outcome</th>\n",
       "      <th>y</th>\n",
       "      <th>duration_mins</th>\n",
       "      <th>date</th>\n",
       "      <th>yrmth</th>\n",
       "      <th>month</th>\n",
       "    </tr>\n",
       "  </thead>\n",
       "  <tbody>\n",
       "    <tr>\n",
       "      <th>0</th>\n",
       "      <td>44715</td>\n",
       "      <td>52.0</td>\n",
       "      <td>blue-collar</td>\n",
       "      <td>married</td>\n",
       "      <td>basic.6y</td>\n",
       "      <td>yes</td>\n",
       "      <td>no</td>\n",
       "      <td>cellular</td>\n",
       "      <td>108.0</td>\n",
       "      <td>2.0</td>\n",
       "      <td>999.0</td>\n",
       "      <td>nonexistent</td>\n",
       "      <td>no</td>\n",
       "      <td>1.8</td>\n",
       "      <td>2008-08-02</td>\n",
       "      <td>200808</td>\n",
       "      <td>8</td>\n",
       "    </tr>\n",
       "  </tbody>\n",
       "</table>\n",
       "</div>"
      ],
      "text/plain": [
       "   cust_id   age          job  marital education mortgage loan contact_type  \\\n",
       "0    44715  52.0  blue-collar  married  basic.6y      yes   no     cellular   \n",
       "\n",
       "   duration  contact_num  p_days    p_outcome   y  duration_mins       date  \\\n",
       "0     108.0          2.0   999.0  nonexistent  no            1.8 2008-08-02   \n",
       "\n",
       "    yrmth  month  \n",
       "0  200808      8  "
      ]
     },
     "execution_count": 85,
     "metadata": {},
     "output_type": "execute_result"
    }
   ],
   "source": [
    "cmpn.head(1)"
   ]
  },
  {
   "cell_type": "code",
   "execution_count": 86,
   "metadata": {},
   "outputs": [
    {
     "data": {
      "text/plain": [
       "(41088, 17)"
      ]
     },
     "execution_count": 86,
     "metadata": {},
     "output_type": "execute_result"
    }
   ],
   "source": [
    "cmpn.shape"
   ]
  },
  {
   "cell_type": "code",
   "execution_count": 87,
   "metadata": {},
   "outputs": [],
   "source": [
    "df = cmpn.copy()"
   ]
  },
  {
   "cell_type": "code",
   "execution_count": 88,
   "metadata": {},
   "outputs": [
    {
     "data": {
      "text/plain": [
       "0    36459\n",
       "1     4629\n",
       "Name: y, dtype: int64"
      ]
     },
     "execution_count": 88,
     "metadata": {},
     "output_type": "execute_result"
    }
   ],
   "source": [
    "# Change the outcome to binary, i.e. 0 and 1\n",
    "df.loc[df.y=='no','y'] = 0\n",
    "df.loc[df.y=='yes','y'] = 1\n",
    "df['y'] = df.y.astype('int64')\n",
    "df.y.value_counts()"
   ]
  },
  {
   "cell_type": "markdown",
   "metadata": {},
   "source": [
    "#### Categorical variable processing: One-hot encoding"
   ]
  },
  {
   "cell_type": "code",
   "execution_count": 89,
   "metadata": {
    "scrolled": true
   },
   "outputs": [
    {
     "name": "stdout",
     "output_type": "stream",
     "text": [
      "month:\n",
      "   month  num_contact  response_rate\n",
      "0      3          544       0.507353\n",
      "9     12          182       0.489011\n",
      "6      9          570       0.449123\n",
      "7     10          713       0.438990\n",
      "1      4         2626       0.204874\n",
      "10   All        41088       0.112661\n",
      "5      8         6168       0.105707\n",
      "3      6         5307       0.105333\n",
      "8     11         4095       0.101343\n",
      "4      7         7150       0.090490\n",
      "2      5        13733       0.064370\n",
      "-------------------------------------------------------------------------\n",
      "job:\n",
      "              job  num_contact  response_rate\n",
      "8         student          873       0.313860\n",
      "5         retired         1715       0.253061\n",
      "10     unemployed         1012       0.142292\n",
      "0          admin.        10722       0.128987\n",
      "11            All        41088       0.112661\n",
      "4      management         2917       0.112444\n",
      "9      technician         6725       0.108401\n",
      "6   self-employed         1417       0.105152\n",
      "3       housemaid         1057       0.100284\n",
      "2    entrepreneur         1454       0.085282\n",
      "7        services         3963       0.081252\n",
      "1     blue-collar         9233       0.068883\n",
      "-------------------------------------------------------------------------\n",
      "marital:\n",
      "    marital  num_contact  response_rate\n",
      "2    single        11538       0.139886\n",
      "3       All        41088       0.112661\n",
      "0  divorced         4596       0.103133\n",
      "1   married        24954       0.101827\n",
      "-------------------------------------------------------------------------\n",
      "education:\n",
      "             education  num_contact  response_rate\n",
      "4           illiterate           18       0.222222\n",
      "6    university.degree        13853       0.138309\n",
      "5  professional.course         5231       0.113554\n",
      "7                  All        41088       0.112661\n",
      "3          high.school         9497       0.108034\n",
      "0             basic.4y         4170       0.102638\n",
      "1             basic.6y         2286       0.082240\n",
      "2             basic.9y         6033       0.078402\n",
      "-------------------------------------------------------------------------\n",
      "mortgage:\n",
      "  mortgage  num_contact  response_rate\n",
      "1      yes        22505       0.115796\n",
      "2      All        41088       0.112661\n",
      "0       no        18583       0.108863\n",
      "-------------------------------------------------------------------------\n",
      "loan:\n",
      "  loan  num_contact  response_rate\n",
      "0   no        34857       0.113234\n",
      "2  All        41088       0.112661\n",
      "1  yes         6231       0.109453\n",
      "-------------------------------------------------------------------------\n",
      "contact_type:\n",
      "  contact_type  num_contact  response_rate\n",
      "0     cellular        26085       0.147364\n",
      "2          All        41088       0.112661\n",
      "1    telephone        15003       0.052323\n",
      "-------------------------------------------------------------------------\n",
      "p_outcome:\n",
      "     p_outcome  num_contact  response_rate\n",
      "2      success         1370       0.651825\n",
      "0      failure         4245       0.142049\n",
      "3          All        41088       0.112661\n",
      "1  nonexistent        35473       0.088321\n",
      "-------------------------------------------------------------------------\n"
     ]
    }
   ],
   "source": [
    "# response rate by different categorical variables\n",
    "for var in ['month']+var_cat[:-1]:\n",
    "    df1 = pd.crosstab(cmpn[var], cmpn.y, margins= True)\n",
    "    df1.reset_index(inplace = True)\n",
    "    df1.columns.name = ''\n",
    "    df1['num_contact'] = df1.no + df1.yes\n",
    "    df1['response_rate'] = df1.yes / df1.num_contact\n",
    "    df1 = df1[[var, 'num_contact', 'response_rate']]\n",
    "    df1.sort_values(by='response_rate', ascending=False, inplace=True)\n",
    "    print(str(var) + \":\")\n",
    "    print(df1)\n",
    "    print('-------------------------------------------------------------------------')"
   ]
  },
  {
   "cell_type": "code",
   "execution_count": 90,
   "metadata": {},
   "outputs": [
    {
     "name": "stdout",
     "output_type": "stream",
     "text": [
      "0    39079\n",
      "1     2009\n",
      "Name: seasonality, dtype: int64\n",
      "int64\n"
     ]
    }
   ],
   "source": [
    "df.loc[df.month.isin([3,9,10,12]),'seasonality'] = 1\n",
    "df.loc[~df.month.isin([3,9,10,12]),'seasonality'] = 0\n",
    "df.loc[:,'seasonality'] = df.seasonality.astype('int64')\n",
    "print(df.seasonality.value_counts(dropna=False))\n",
    "print(df.seasonality.dtypes)"
   ]
  },
  {
   "cell_type": "code",
   "execution_count": 91,
   "metadata": {
    "scrolled": true
   },
   "outputs": [
    {
     "name": "stdout",
     "output_type": "stream",
     "text": [
      "0    40215\n",
      "1      873\n",
      "Name: student, dtype: int64\n",
      "int64\n"
     ]
    }
   ],
   "source": [
    "# One-hot encoding\n",
    "df.loc[df.job=='student','student'] = 1\n",
    "df.loc[df.job!='student','student'] = 0\n",
    "df.loc[:,'student'] = df.student.astype('int64')\n",
    "print(df.student.value_counts(dropna=False))\n",
    "print(df.student.dtypes)"
   ]
  },
  {
   "cell_type": "code",
   "execution_count": 92,
   "metadata": {},
   "outputs": [
    {
     "name": "stdout",
     "output_type": "stream",
     "text": [
      "0    39373\n",
      "1     1715\n",
      "Name: retired, dtype: int64\n",
      "int64\n"
     ]
    }
   ],
   "source": [
    "df.loc[df.job=='retired','retired'] = 1\n",
    "df.loc[~(df.job=='retired'),'retired'] = 0\n",
    "df.loc[:,'retired'] = df.retired.astype('int64')\n",
    "print(df.retired.value_counts(dropna=False))\n",
    "print(df.retired.dtypes)"
   ]
  },
  {
   "cell_type": "code",
   "execution_count": 93,
   "metadata": {},
   "outputs": [],
   "source": [
    "# student = 1 retired = 0\n",
    "# student = 0 retired = 1\n",
    "# student = 0 retired = 0"
   ]
  },
  {
   "cell_type": "code",
   "execution_count": 94,
   "metadata": {},
   "outputs": [
    {
     "name": "stdout",
     "output_type": "stream",
     "text": [
      "0    39718\n",
      "1     1370\n",
      "Name: success, dtype: int64\n",
      "int64\n"
     ]
    }
   ],
   "source": [
    "df.loc[df.p_outcome=='success','success'] = 1\n",
    "df.loc[df.p_outcome!='success','success'] = 0\n",
    "df.loc[:,'success'] = df.success.astype('int64')\n",
    "print(df.success.value_counts(dropna=False))\n",
    "print(df.success.dtypes)"
   ]
  },
  {
   "cell_type": "markdown",
   "metadata": {},
   "source": [
    "#### Split data into predictors and outcome"
   ]
  },
  {
   "cell_type": "code",
   "execution_count": 95,
   "metadata": {},
   "outputs": [],
   "source": [
    "X = df[['student','retired','seasonality','success',\n",
    "         'age','duration','contact_num','p_days']]\n",
    "y = df.y"
   ]
  },
  {
   "cell_type": "markdown",
   "metadata": {},
   "source": [
    "#### Train Test Split"
   ]
  },
  {
   "cell_type": "code",
   "execution_count": 96,
   "metadata": {},
   "outputs": [],
   "source": [
    "from sklearn.model_selection import train_test_split\n",
    "\n",
    "X_train, X_test, y_train, y_test = train_test_split(X, y, test_size=0.2, random_state=824)"
   ]
  },
  {
   "cell_type": "code",
   "execution_count": 97,
   "metadata": {},
   "outputs": [
    {
     "name": "stdout",
     "output_type": "stream",
     "text": [
      "(32870, 8) (32870,)\n",
      "(8218, 8) (8218,)\n"
     ]
    }
   ],
   "source": [
    "print(X_train.shape, y_train.shape)\n",
    "print(X_test.shape, y_test.shape)"
   ]
  },
  {
   "cell_type": "markdown",
   "metadata": {},
   "source": [
    "### Model Fitting - Random Forest"
   ]
  },
  {
   "cell_type": "code",
   "execution_count": 98,
   "metadata": {},
   "outputs": [
    {
     "data": {
      "text/plain": [
       "RandomForestClassifier(bootstrap=True, ccp_alpha=0.0, class_weight=None,\n",
       "                       criterion='gini', max_depth=7, max_features='auto',\n",
       "                       max_leaf_nodes=None, max_samples=None,\n",
       "                       min_impurity_decrease=0.0, min_impurity_split=None,\n",
       "                       min_samples_leaf=1, min_samples_split=2,\n",
       "                       min_weight_fraction_leaf=0.0, n_estimators=100,\n",
       "                       n_jobs=None, oob_score=False, random_state=824,\n",
       "                       verbose=0, warm_start=False)"
      ]
     },
     "execution_count": 98,
     "metadata": {},
     "output_type": "execute_result"
    }
   ],
   "source": [
    "from sklearn.ensemble import RandomForestClassifier\n",
    "rf_clf = RandomForestClassifier(max_depth=7, random_state=824)\n",
    "rf_clf.fit(X_train, y_train)"
   ]
  },
  {
   "cell_type": "markdown",
   "metadata": {},
   "source": [
    "#### Feature Importance"
   ]
  },
  {
   "cell_type": "code",
   "execution_count": 99,
   "metadata": {},
   "outputs": [
    {
     "name": "stdout",
     "output_type": "stream",
     "text": [
      "student = 0.012\n",
      "retired = 0.009\n",
      "seasonality = 0.125\n",
      "success = 0.100\n",
      "age = 0.071\n",
      "duration = 0.473\n",
      "contact_num = 0.016\n",
      "p_days = 0.194\n"
     ]
    }
   ],
   "source": [
    "for name, importance in zip(X_train.columns.tolist(), rf_clf.feature_importances_):\n",
    "    print('%s = %.3f' %(name, importance))"
   ]
  },
  {
   "cell_type": "code",
   "execution_count": 100,
   "metadata": {},
   "outputs": [
    {
     "data": {
      "image/png": "[encoded data removed]",
      "text/plain": [
       "<Figure size 432x288 with 1 Axes>"
      ]
     },
     "metadata": {
      "needs_background": "light"
     },
     "output_type": "display_data"
    }
   ],
   "source": [
    "features = X_train.columns.tolist()\n",
    "importances = rf_clf.feature_importances_\n",
    "indices = np.argsort(importances)\n",
    "\n",
    "plt.title('Feature Importances')\n",
    "plt.barh(range(len(indices)), importances[indices], color='b', align='center')\n",
    "plt.yticks(range(len(indices)), [features[i] for i in indices])\n",
    "plt.xlabel('Relative Importance')\n",
    "plt.show()"
   ]
  },
  {
   "cell_type": "markdown",
   "metadata": {},
   "source": [
    "#### Model Evaluation"
   ]
  },
  {
   "cell_type": "code",
   "execution_count": 101,
   "metadata": {},
   "outputs": [
    {
     "name": "stdout",
     "output_type": "stream",
     "text": [
      "RF train accuracy: 0.909\n",
      "RF test accuracy: 0.903\n"
     ]
    }
   ],
   "source": [
    "print(\"RF train accuracy: %0.3f\" % rf_clf.score(X_train, y_train))\n",
    "print(\"RF test accuracy: %0.3f\" % rf_clf.score(X_test, y_test))"
   ]
  },
  {
   "cell_type": "code",
   "execution_count": 102,
   "metadata": {},
   "outputs": [
    {
     "name": "stdout",
     "output_type": "stream",
     "text": [
      "RF train AUC : 0.9069435903250207\n",
      "RF test AUC: 0.8990467464560981\n"
     ]
    }
   ],
   "source": [
    "from sklearn.metrics import roc_auc_score\n",
    "print('RF train AUC : %s' % roc_auc_score(y_train, rf_clf.predict_proba(X_train)[:,1]))\n",
    "print('RF test AUC: %s' % roc_auc_score(y_test, rf_clf.predict_proba(X_test)[:,1]))"
   ]
  }
 ],
 "metadata": {
  "kernelspec": {
   "display_name": "Python 3",
   "language": "python",
   "name": "python3"
  },
  "language_info": {
   "codemirror_mode": {
    "name": "ipython",
    "version": 3
   },
   "file_extension": ".py",
   "mimetype": "text/x-python",
   "name": "python",
   "nbconvert_exporter": "python",
   "pygments_lexer": "ipython3",
   "version": "3.7.3"
  }
 },
 "nbformat": 4,
 "nbformat_minor": 2
}
